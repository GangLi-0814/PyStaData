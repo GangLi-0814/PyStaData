{
 "cells": [
  {
   "cell_type": "code",
   "execution_count": null,
   "metadata": {},
   "outputs": [],
   "source": [
    "!pip install cocoNLP\n",
    "!pip install cpca\n",
    "!pip install id-validator"
   ]
  },
  {
   "cell_type": "markdown",
   "metadata": {},
   "source": [
    "## 匹配省市区"
   ]
  },
  {
   "cell_type": "code",
   "execution_count": 19,
   "metadata": {},
   "outputs": [
    {
     "data": {
      "text/html": [
       "<div>\n",
       "<style scoped>\n",
       "    .dataframe tbody tr th:only-of-type {\n",
       "        vertical-align: middle;\n",
       "    }\n",
       "\n",
       "    .dataframe tbody tr th {\n",
       "        vertical-align: top;\n",
       "    }\n",
       "\n",
       "    .dataframe thead th {\n",
       "        text-align: right;\n",
       "    }\n",
       "</style>\n",
       "<table border=\"1\" class=\"dataframe\">\n",
       "  <thead>\n",
       "    <tr style=\"text-align: right;\">\n",
       "      <th></th>\n",
       "      <th>省</th>\n",
       "      <th>市</th>\n",
       "      <th>区</th>\n",
       "      <th>地址</th>\n",
       "    </tr>\n",
       "  </thead>\n",
       "  <tbody>\n",
       "    <tr>\n",
       "      <th>0</th>\n",
       "      <td>湖北省</td>\n",
       "      <td>武汉市</td>\n",
       "      <td>洪山区</td>\n",
       "      <td>南湖大道182号</td>\n",
       "    </tr>\n",
       "    <tr>\n",
       "      <th>1</th>\n",
       "      <td>北京市</td>\n",
       "      <td>北京市</td>\n",
       "      <td>海淀区</td>\n",
       "      <td>颐和园路5号</td>\n",
       "    </tr>\n",
       "    <tr>\n",
       "      <th>2</th>\n",
       "      <td>湖北省</td>\n",
       "      <td>武汉市</td>\n",
       "      <td>洪山区</td>\n",
       "      <td>珞喻路1037号</td>\n",
       "    </tr>\n",
       "  </tbody>\n",
       "</table>\n",
       "</div>"
      ],
      "text/plain": [
       "     省    市    区        地址\n",
       "0  湖北省  武汉市  洪山区  南湖大道182号\n",
       "1  北京市  北京市  海淀区    颐和园路5号\n",
       "2  湖北省  武汉市  洪山区  珞喻路1037号"
      ]
     },
     "execution_count": 19,
     "metadata": {},
     "output_type": "execute_result"
    }
   ],
   "source": [
    "location_str = [\"洪山区南湖大道182号\",'海淀区颐和园路5号','洪山区珞喻路1037号']\n",
    "import cpca #chinese province city area\n",
    "df = cpca.transform(location_str)\n",
    "df"
   ]
  },
  {
   "cell_type": "code",
   "execution_count": 25,
   "metadata": {
    "scrolled": true
   },
   "outputs": [
    {
     "data": {
      "text/html": [
       "<!DOCTYPE html>\n",
       "<head>    \n",
       "    <meta http-equiv=\"content-type\" content=\"text/html; charset=UTF-8\" />\n",
       "    \n",
       "        <script>\n",
       "            L_NO_TOUCH = false;\n",
       "            L_DISABLE_3D = false;\n",
       "        </script>\n",
       "    \n",
       "    <script src=\"https://cdn.jsdelivr.net/npm/leaflet@1.5.1/dist/leaflet.js\"></script>\n",
       "    <script src=\"https://code.jquery.com/jquery-1.12.4.min.js\"></script>\n",
       "    <script src=\"https://maxcdn.bootstrapcdn.com/bootstrap/3.2.0/js/bootstrap.min.js\"></script>\n",
       "    <script src=\"https://cdnjs.cloudflare.com/ajax/libs/Leaflet.awesome-markers/2.0.2/leaflet.awesome-markers.js\"></script>\n",
       "    <link rel=\"stylesheet\" href=\"https://cdn.jsdelivr.net/npm/leaflet@1.5.1/dist/leaflet.css\"/>\n",
       "    <link rel=\"stylesheet\" href=\"https://maxcdn.bootstrapcdn.com/bootstrap/3.2.0/css/bootstrap.min.css\"/>\n",
       "    <link rel=\"stylesheet\" href=\"https://maxcdn.bootstrapcdn.com/bootstrap/3.2.0/css/bootstrap-theme.min.css\"/>\n",
       "    <link rel=\"stylesheet\" href=\"https://maxcdn.bootstrapcdn.com/font-awesome/4.6.3/css/font-awesome.min.css\"/>\n",
       "    <link rel=\"stylesheet\" href=\"https://cdnjs.cloudflare.com/ajax/libs/Leaflet.awesome-markers/2.0.2/leaflet.awesome-markers.css\"/>\n",
       "    <link rel=\"stylesheet\" href=\"https://rawcdn.githack.com/python-visualization/folium/master/folium/templates/leaflet.awesome.rotate.css\"/>\n",
       "    <style>html, body {width: 100%;height: 100%;margin: 0;padding: 0;}</style>\n",
       "    <style>#map {position:absolute;top:0;bottom:0;right:0;left:0;}</style>\n",
       "    \n",
       "            <meta name=\"viewport\" content=\"width=device-width,\n",
       "                initial-scale=1.0, maximum-scale=1.0, user-scalable=no\" />\n",
       "            <style>\n",
       "                #map_ff17d94247bf40ff9adcfa455ed2803f {\n",
       "                    position: relative;\n",
       "                    width: 100.0%;\n",
       "                    height: 100.0%;\n",
       "                    left: 0.0%;\n",
       "                    top: 0.0%;\n",
       "                }\n",
       "            </style>\n",
       "        \n",
       "    <script src=\"https://leaflet.github.io/Leaflet.heat/dist/leaflet-heat.js\"></script>\n",
       "</head>\n",
       "<body>    \n",
       "    \n",
       "            <div class=\"folium-map\" id=\"map_ff17d94247bf40ff9adcfa455ed2803f\" ></div>\n",
       "        \n",
       "</body>\n",
       "<script>    \n",
       "    \n",
       "            var map_ff17d94247bf40ff9adcfa455ed2803f = L.map(\n",
       "                \"map_ff17d94247bf40ff9adcfa455ed2803f\",\n",
       "                {\n",
       "                    center: [35.0, 110.0],\n",
       "                    crs: L.CRS.EPSG3857,\n",
       "                    zoom: 5,\n",
       "                    zoomControl: true,\n",
       "                    preferCanvas: false,\n",
       "                }\n",
       "            );\n",
       "\n",
       "            \n",
       "\n",
       "        \n",
       "    \n",
       "            var tile_layer_961a7c0555cd4f65beedc41d71db487f = L.tileLayer(\n",
       "                \"https://{s}.tile.openstreetmap.org/{z}/{x}/{y}.png\",\n",
       "                {\"attribution\": \"Data by \\u0026copy; \\u003ca href=\\\"http://openstreetmap.org\\\"\\u003eOpenStreetMap\\u003c/a\\u003e, under \\u003ca href=\\\"http://www.openstreetmap.org/copyright\\\"\\u003eODbL\\u003c/a\\u003e.\", \"detectRetina\": false, \"maxNativeZoom\": 18, \"maxZoom\": 18, \"minZoom\": 0, \"noWrap\": false, \"opacity\": 1, \"subdomains\": \"abc\", \"tms\": false}\n",
       "            ).addTo(map_ff17d94247bf40ff9adcfa455ed2803f);\n",
       "        \n",
       "    \n",
       "            var heat_map_6f02b81fe1274a0392ffcbbf1c577207 = L.heatLayer(\n",
       "                [[30.54362328175047, 114.43389643664298, 1], [40.03316204507791, 116.23967780102151, 1], [30.54362328175047, 114.43389643664298, 1]],\n",
       "                {\"blur\": 15, \"max\": 1.0, \"maxZoom\": 18, \"minOpacity\": 0.5, \"radius\": 25}\n",
       "            ).addTo(map_ff17d94247bf40ff9adcfa455ed2803f);\n",
       "        \n",
       "</script>"
      ],
      "text/plain": [
       "<IPython.core.display.HTML object>"
      ]
     },
     "metadata": {},
     "output_type": "display_data"
    }
   ],
   "source": [
    "# 绘图\n",
    "from cpca import drawer\n",
    "from IPython.display import HTML\n",
    "drawer.draw_locations(df, \"df.html\")\n",
    "display(HTML(\"df.html\"))"
   ]
  },
  {
   "cell_type": "markdown",
   "metadata": {},
   "source": [
    "## 文本中提取地址"
   ]
  },
  {
   "cell_type": "code",
   "execution_count": 29,
   "metadata": {},
   "outputs": [
    {
     "data": {
      "text/plain": [
       "'中南财经政法大学，地址：湖北省武汉市东湖新技术开发区南湖大道182号，邮编：430073，电话：027-88386114'"
      ]
     },
     "execution_count": 29,
     "metadata": {},
     "output_type": "execute_result"
    }
   ],
   "source": [
    "from cocoNLP.extractor import extractor\n",
    "ex = extractor()\n",
    "text = '中南财经政法大学，地址：湖北省武汉市东湖新技术开发区南湖大道182号，邮编：430073，电话：027-88386114'"
   ]
  },
  {
   "cell_type": "code",
   "execution_count": 30,
   "metadata": {},
   "outputs": [
    {
     "data": {
      "text/plain": [
       "['湖北省武汉市东湖新技术开发区南湖大道', '武汉市东湖新技术开发区南湖大道', '南湖大道', '大道']"
      ]
     },
     "execution_count": 30,
     "metadata": {},
     "output_type": "execute_result"
    }
   ],
   "source": [
    "# 提取地址\n",
    "locations = ex.extract_locations(text)\n",
    "locations"
   ]
  },
  {
   "cell_type": "code",
   "execution_count": null,
   "metadata": {},
   "outputs": [],
   "source": []
  },
  {
   "cell_type": "code",
   "execution_count": null,
   "metadata": {},
   "outputs": [],
   "source": [
    "text = '急寻特朗普，男孩，于2018年11月27号11时在陕西省安康市汉滨区走失。丢失发型短发，...如有线索，请迅速与警方联系：18100065143，132-6156-2938，baizhantang@sina.com.cn 和yangyangfuture at gmail dot com'\n",
    "# 抽取邮箱\n",
    "emails = ex.extract_email(text)\n",
    "print(emails)"
   ]
  },
  {
   "cell_type": "code",
   "execution_count": 33,
   "metadata": {},
   "outputs": [
    {
     "name": "stdout",
     "output_type": "stream",
     "text": [
      "[{'phone': '18100065143', 'province': '上海', 'city': '上海', 'zip_code': '200000', 'area_code': '021', 'phone_type': '电信'}, {'phone': '13261562938', 'province': '北京', 'city': '北京', 'zip_code': '100000', 'area_code': '010', 'phone_type': '联通'}]\n"
     ]
    }
   ],
   "source": [
    "cellphones = ['18100065143', '13261562938']\n",
    "# 抽取手机归属地、运营商\n",
    "cell_locs = [ex.extract_cellphone_location(cell,'CHN') for cell in cellphones]\n",
    "print(cell_locs)"
   ]
  },
  {
   "cell_type": "code",
   "execution_count": null,
   "metadata": {},
   "outputs": [],
   "source": [
    "['baizhantang@sina.com.cn', 'yangyangfuture@gmail.com.cn']\n",
    "# 抽取手机号\n",
    "cellphones = ex.extract_cellphone(text,nation='CHN')\n",
    "print(cellphones)"
   ]
  },
  {
   "cell_type": "code",
   "execution_count": null,
   "metadata": {},
   "outputs": [],
   "source": [
    "cellphone_location [{'phone': '18100065143', 'province': '上海', 'city': '上海', 'zip_code': '200000', 'area_code': '021', 'phone_type': '电信'}]\n",
    "# 抽取地址信息\n",
    "locations = ex.extract_locations(text)\n",
    "print(locations)\n",
    "\n",
    "# 抽取时间点\n",
    "times = ex.extract_time(text)\n",
    "print(times)\n",
    "\n",
    "# 抽取人名\n",
    "name = ex.extract_name(text)\n",
    "print(name)"
   ]
  },
  {
   "cell_type": "markdown",
   "metadata": {},
   "source": [
    "## 从身份证号提取信息"
   ]
  },
  {
   "cell_type": "code",
   "execution_count": 8,
   "metadata": {},
   "outputs": [
    {
     "data": {
      "text/plain": [
       "True"
      ]
     },
     "execution_count": 8,
     "metadata": {},
     "output_type": "execute_result"
    }
   ],
   "source": [
    "from id_validator import validator\n",
    "validator.is_valid('440308199901101512') # 验证真实性\n",
    "validator.get_info('440308199901101512')"
   ]
  },
  {
   "cell_type": "code",
   "execution_count": 9,
   "metadata": {},
   "outputs": [
    {
     "data": {
      "text/plain": [
       "{'address_code': '440308',\n",
       " 'abandoned': 0,\n",
       " 'address': '广东省深圳市盐田区',\n",
       " 'address_tree': ['广东省', '深圳市', '盐田区'],\n",
       " 'birthday_code': '1999-01-10',\n",
       " 'constellation': '摩羯座',\n",
       " 'chinese_zodiac': '卯兔',\n",
       " 'sex': 1,\n",
       " 'length': 18,\n",
       " 'check_bit': '2'}"
      ]
     },
     "execution_count": 9,
     "metadata": {},
     "output_type": "execute_result"
    }
   ],
   "source": []
  },
  {
   "cell_type": "code",
   "execution_count": null,
   "metadata": {},
   "outputs": [],
   "source": []
  }
 ],
 "metadata": {
  "kernelspec": {
   "display_name": "Python 3",
   "language": "python",
   "name": "python3"
  },
  "language_info": {
   "codemirror_mode": {
    "name": "ipython",
    "version": 3
   },
   "file_extension": ".py",
   "mimetype": "text/x-python",
   "name": "python",
   "nbconvert_exporter": "python",
   "pygments_lexer": "ipython3",
   "version": "3.7.4"
  },
  "toc": {
   "base_numbering": 1,
   "nav_menu": {},
   "number_sections": true,
   "sideBar": true,
   "skip_h1_title": false,
   "title_cell": "Table of Contents",
   "title_sidebar": "Contents",
   "toc_cell": false,
   "toc_position": {},
   "toc_section_display": true,
   "toc_window_display": false
  }
 },
 "nbformat": 4,
 "nbformat_minor": 2
}
