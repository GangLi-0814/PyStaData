{
 "cells": [
  {
   "cell_type": "code",
   "execution_count": 2,
   "metadata": {},
   "outputs": [],
   "source": [
    "import requests\n",
    "import pdfplumber\n",
    "from openpyxl import Workbook\n",
    "import pandas as pd\n",
    "import cpca\n",
    "from chinese_province_city_area_mapper import drawers\n",
    "from IPython.display import IFrame"
   ]
  },
  {
   "cell_type": "code",
   "execution_count": 3,
   "metadata": {},
   "outputs": [],
   "source": [
    "# 下载 PDF 文件\n",
    "pdf_2019q4 = 'http://www.csrc.gov.cn/pub/newsite/scb/ssgshyfljg/202001/W020200110325952653089.pdf'\n",
    "r = requests.get(pdf_2019q4, stream=True)\n",
    "with open(\"CSRC_2019q4.pdf\", \"wb\") as pdf:\n",
    "    for content in r:\n",
    "            pdf.write(content)"
   ]
  },
  {
   "cell_type": "code",
   "execution_count": 4,
   "metadata": {},
   "outputs": [],
   "source": [
    "# 提取并写入Excel\n",
    "wb = Workbook()\n",
    "ws = wb.active\n",
    "with pdfplumber.open(\"CSRC_2019q4.pdf\") as pdf:\n",
    "    for page in pdf.pages:\n",
    "        for table in page.extract_tables():\n",
    "            for row in table:\n",
    "                ws.append(row)\n",
    "wb.save(\"CSRC_2019q4.xlsx\")"
   ]
  },
  {
   "cell_type": "code",
   "execution_count": null,
   "metadata": {},
   "outputs": [],
   "source": [
    "# 使用 Stata 数据整理\n",
    "# * ssc install nrow, replace\n",
    "# * ssc install carryforward, replace\n",
    "\n",
    "# import excel using \"CSRC_201914.xlsx\", clear\n",
    "# duplicates drop\n",
    "# nrow\n",
    "# carryforward _all,replace\n",
    "# gen 行业门类与大类 = ustrregexs(0) + 行业大类代码 if ustrregexm(门类名称及代码,\"[A-Z]\") == 1\n",
    "# rename (上市公司代码 上市公司简称 行业门类与大类 门类名称及代码) (Stkcd Stknme Nnindnme Nnindcd)\n",
    "# drop 行业大类代码 行业大类名称\n",
    "# lab var Stkcd \"上市公司代码\"\n",
    "# lab var Stknme \"上市公司简称\"\n",
    "# lab var Nnindcd \"行业代码\"\n",
    "# lab var Nnindnme \"行业名称\"\n",
    "# save \"CSRC_2019q4_ok.dta\", replace\n",
    "\n",
    "# import excel using \"IPO_Cobasic.xlsx\", firstrow clear\n",
    "# duplicates drop Stkcd, force \n",
    "# lab var Listdt \"上市时间\"\n",
    "# lab var Estbdt \"成立时间\"\n",
    "# lab var Regadd \"注册地址\"\n",
    "# save \"IPO_Cobasic.dta\", replace\n",
    "\n",
    "# use \"CSRC_2019q4_ok.dta\", clear\n",
    "# merge 1:1 Stkcd using \"IPO_Cobasic.dta\", keep(3) nogen\n",
    "# save \"CSRC_2019q4_ok.dta\", replace\n",
    "\n",
    "\n"
   ]
  },
  {
   "cell_type": "code",
   "execution_count": 13,
   "metadata": {},
   "outputs": [],
   "source": [
    "# 读取整理后的数据\n",
    "df = pd.read_stata(\"CSRC_2019q4_ok.dta\")"
   ]
  },
  {
   "cell_type": "code",
   "execution_count": 14,
   "metadata": {},
   "outputs": [
    {
     "data": {
      "text/html": [
       "<div>\n",
       "<style scoped>\n",
       "    .dataframe tbody tr th:only-of-type {\n",
       "        vertical-align: middle;\n",
       "    }\n",
       "\n",
       "    .dataframe tbody tr th {\n",
       "        vertical-align: top;\n",
       "    }\n",
       "\n",
       "    .dataframe thead th {\n",
       "        text-align: right;\n",
       "    }\n",
       "</style>\n",
       "<table border=\"1\" class=\"dataframe\">\n",
       "  <thead>\n",
       "    <tr style=\"text-align: right;\">\n",
       "      <th></th>\n",
       "      <th>Nnindnme</th>\n",
       "      <th>Stkcd</th>\n",
       "      <th>Stknme</th>\n",
       "      <th>Nnindcd</th>\n",
       "      <th>Listdt</th>\n",
       "      <th>Estbdt</th>\n",
       "      <th>Regadd</th>\n",
       "      <th>Agri_m</th>\n",
       "    </tr>\n",
       "  </thead>\n",
       "  <tbody>\n",
       "    <tr>\n",
       "      <th>0</th>\n",
       "      <td>金融业(J)</td>\n",
       "      <td>000001</td>\n",
       "      <td>平安银行</td>\n",
       "      <td>J66</td>\n",
       "      <td>1991-04-03</td>\n",
       "      <td>1987-12-22</td>\n",
       "      <td>广东省深圳市深南中路178号深圳发展银行大厦</td>\n",
       "      <td>0.0</td>\n",
       "    </tr>\n",
       "    <tr>\n",
       "      <th>1</th>\n",
       "      <td>房地产业(K)</td>\n",
       "      <td>000002</td>\n",
       "      <td>万科A</td>\n",
       "      <td>K70</td>\n",
       "      <td>1991-01-29</td>\n",
       "      <td>1984-05-30</td>\n",
       "      <td>广东省深圳市罗湖区翠竹北水贝二路27号</td>\n",
       "      <td>0.0</td>\n",
       "    </tr>\n",
       "    <tr>\n",
       "      <th>2</th>\n",
       "      <td>制造业(C)</td>\n",
       "      <td>000004</td>\n",
       "      <td>国农科技</td>\n",
       "      <td>C27</td>\n",
       "      <td>1991-01-14</td>\n",
       "      <td>1986-05-05</td>\n",
       "      <td>广东省深圳市南山区蛇口公园路4号青少年活动中心B座三楼</td>\n",
       "      <td>0.0</td>\n",
       "    </tr>\n",
       "    <tr>\n",
       "      <th>3</th>\n",
       "      <td>水利、环境和公共\\n设施管理业(N)</td>\n",
       "      <td>000005</td>\n",
       "      <td>世纪星源</td>\n",
       "      <td>N77</td>\n",
       "      <td>1990-12-10</td>\n",
       "      <td>1987-07-23</td>\n",
       "      <td>广东省深圳市人民南路发展中心大厦13楼</td>\n",
       "      <td>0.0</td>\n",
       "    </tr>\n",
       "    <tr>\n",
       "      <th>4</th>\n",
       "      <td>房地产业(K)</td>\n",
       "      <td>000006</td>\n",
       "      <td>深振业A</td>\n",
       "      <td>K70</td>\n",
       "      <td>1992-04-27</td>\n",
       "      <td>1989-05-25</td>\n",
       "      <td>广东省深圳市宝安南路振业大厦29-32层</td>\n",
       "      <td>0.0</td>\n",
       "    </tr>\n",
       "  </tbody>\n",
       "</table>\n",
       "</div>"
      ],
      "text/plain": [
       "             Nnindnme   Stkcd Stknme Nnindcd      Listdt      Estbdt  \\\n",
       "0              金融业(J)  000001   平安银行     J66  1991-04-03  1987-12-22   \n",
       "1             房地产业(K)  000002    万科A     K70  1991-01-29  1984-05-30   \n",
       "2              制造业(C)  000004   国农科技     C27  1991-01-14  1986-05-05   \n",
       "3  水利、环境和公共\\n设施管理业(N)  000005   世纪星源     N77  1990-12-10  1987-07-23   \n",
       "4             房地产业(K)  000006   深振业A     K70  1992-04-27  1989-05-25   \n",
       "\n",
       "                        Regadd  Agri_m  \n",
       "0       广东省深圳市深南中路178号深圳发展银行大厦     0.0  \n",
       "1          广东省深圳市罗湖区翠竹北水贝二路27号     0.0  \n",
       "2  广东省深圳市南山区蛇口公园路4号青少年活动中心B座三楼     0.0  \n",
       "3          广东省深圳市人民南路发展中心大厦13楼     0.0  \n",
       "4         广东省深圳市宝安南路振业大厦29-32层     0.0  "
      ]
     },
     "execution_count": 14,
     "metadata": {},
     "output_type": "execute_result"
    }
   ],
   "source": [
    "df.head()"
   ]
  },
  {
   "cell_type": "code",
   "execution_count": 15,
   "metadata": {
    "scrolled": true
   },
   "outputs": [],
   "source": [
    "# 拆分为省-市-区-地址\n",
    "location = cpca.transform(df.Regadd)"
   ]
  },
  {
   "cell_type": "code",
   "execution_count": 16,
   "metadata": {},
   "outputs": [
    {
     "data": {
      "text/html": [
       "<div>\n",
       "<style scoped>\n",
       "    .dataframe tbody tr th:only-of-type {\n",
       "        vertical-align: middle;\n",
       "    }\n",
       "\n",
       "    .dataframe tbody tr th {\n",
       "        vertical-align: top;\n",
       "    }\n",
       "\n",
       "    .dataframe thead th {\n",
       "        text-align: right;\n",
       "    }\n",
       "</style>\n",
       "<table border=\"1\" class=\"dataframe\">\n",
       "  <thead>\n",
       "    <tr style=\"text-align: right;\">\n",
       "      <th></th>\n",
       "      <th>省</th>\n",
       "      <th>市</th>\n",
       "      <th>区</th>\n",
       "      <th>地址</th>\n",
       "      <th>adcode</th>\n",
       "    </tr>\n",
       "  </thead>\n",
       "  <tbody>\n",
       "    <tr>\n",
       "      <th>0</th>\n",
       "      <td>广东省</td>\n",
       "      <td>深圳市</td>\n",
       "      <td>None</td>\n",
       "      <td>发展银行大厦</td>\n",
       "      <td>440300</td>\n",
       "    </tr>\n",
       "    <tr>\n",
       "      <th>1</th>\n",
       "      <td>广东省</td>\n",
       "      <td>深圳市</td>\n",
       "      <td>罗湖区</td>\n",
       "      <td>翠竹北水贝二路27号</td>\n",
       "      <td>440303</td>\n",
       "    </tr>\n",
       "    <tr>\n",
       "      <th>2</th>\n",
       "      <td>广东省</td>\n",
       "      <td>深圳市</td>\n",
       "      <td>南山区</td>\n",
       "      <td>蛇口公园路4号青少年活动中心B座三楼</td>\n",
       "      <td>440305</td>\n",
       "    </tr>\n",
       "    <tr>\n",
       "      <th>3</th>\n",
       "      <td>广东省</td>\n",
       "      <td>深圳市</td>\n",
       "      <td>None</td>\n",
       "      <td>人民南路发展中心大厦13楼</td>\n",
       "      <td>440300</td>\n",
       "    </tr>\n",
       "    <tr>\n",
       "      <th>4</th>\n",
       "      <td>广东省</td>\n",
       "      <td>深圳市</td>\n",
       "      <td>None</td>\n",
       "      <td>宝安南路振业大厦29-32层</td>\n",
       "      <td>440300</td>\n",
       "    </tr>\n",
       "  </tbody>\n",
       "</table>\n",
       "</div>"
      ],
      "text/plain": [
       "     省    市     区                  地址  adcode\n",
       "0  广东省  深圳市  None              发展银行大厦  440300\n",
       "1  广东省  深圳市   罗湖区          翠竹北水贝二路27号  440303\n",
       "2  广东省  深圳市   南山区  蛇口公园路4号青少年活动中心B座三楼  440305\n",
       "3  广东省  深圳市  None       人民南路发展中心大厦13楼  440300\n",
       "4  广东省  深圳市  None      宝安南路振业大厦29-32层  440300"
      ]
     },
     "execution_count": 16,
     "metadata": {},
     "output_type": "execute_result"
    }
   ],
   "source": [
    "location.head()"
   ]
  },
  {
   "cell_type": "code",
   "execution_count": 17,
   "metadata": {},
   "outputs": [],
   "source": [
    "# 绘图\n",
    "drawers.draw_locations(location, \"location.html\")"
   ]
  },
  {
   "cell_type": "code",
   "execution_count": 47,
   "metadata": {
    "collapsed": true
   },
   "outputs": [
    {
     "data": {
      "text/html": [
       "\n",
       "        <iframe\n",
       "            width=\"1000\"\n",
       "            height=\"800\"\n",
       "            src=\"location.html\"\n",
       "            frameborder=\"0\"\n",
       "            allowfullscreen\n",
       "        ></iframe>\n",
       "        "
      ],
      "text/plain": [
       "<IPython.lib.display.IFrame at 0x7fc4a3a6ffd0>"
      ]
     },
     "execution_count": 47,
     "metadata": {},
     "output_type": "execute_result"
    }
   ],
   "source": [
    "# 嵌入 HTML\n",
    "IFrame('location.html', width=1000, height=800)"
   ]
  },
  {
   "cell_type": "code",
   "execution_count": 21,
   "metadata": {},
   "outputs": [
    {
     "data": {
      "text/html": [
       "<div>\n",
       "<style scoped>\n",
       "    .dataframe tbody tr th:only-of-type {\n",
       "        vertical-align: middle;\n",
       "    }\n",
       "\n",
       "    .dataframe tbody tr th {\n",
       "        vertical-align: top;\n",
       "    }\n",
       "\n",
       "    .dataframe thead th {\n",
       "        text-align: right;\n",
       "    }\n",
       "</style>\n",
       "<table border=\"1\" class=\"dataframe\">\n",
       "  <thead>\n",
       "    <tr style=\"text-align: right;\">\n",
       "      <th></th>\n",
       "      <th>Nnindnme</th>\n",
       "      <th>Stkcd</th>\n",
       "      <th>Stknme</th>\n",
       "      <th>Nnindcd</th>\n",
       "      <th>Listdt</th>\n",
       "      <th>Estbdt</th>\n",
       "      <th>Regadd</th>\n",
       "      <th>Agri_m</th>\n",
       "    </tr>\n",
       "  </thead>\n",
       "  <tbody>\n",
       "    <tr>\n",
       "      <th>37</th>\n",
       "      <td>制造业(C)</td>\n",
       "      <td>000048</td>\n",
       "      <td>康达尔</td>\n",
       "      <td>C13</td>\n",
       "      <td>1994-11-01</td>\n",
       "      <td>1994-09-21</td>\n",
       "      <td>广东省深圳市福田区滨河大道下步庙东侧</td>\n",
       "      <td>1.0</td>\n",
       "    </tr>\n",
       "    <tr>\n",
       "      <th>96</th>\n",
       "      <td>制造业(C)</td>\n",
       "      <td>000488</td>\n",
       "      <td>晨鸣纸业</td>\n",
       "      <td>C22</td>\n",
       "      <td>2000-11-20</td>\n",
       "      <td>1993-05-05</td>\n",
       "      <td>山东省寿光市圣城路595号</td>\n",
       "      <td>1.0</td>\n",
       "    </tr>\n",
       "    <tr>\n",
       "      <th>102</th>\n",
       "      <td>制造业(C)</td>\n",
       "      <td>000505</td>\n",
       "      <td>京粮控股</td>\n",
       "      <td>C13</td>\n",
       "      <td>1992-12-21</td>\n",
       "      <td>1992-01-11</td>\n",
       "      <td>海南省海口经昆北路2号龙珠城1栋</td>\n",
       "      <td>1.0</td>\n",
       "    </tr>\n",
       "    <tr>\n",
       "      <th>105</th>\n",
       "      <td>制造业(C)</td>\n",
       "      <td>000509</td>\n",
       "      <td>华塑控股</td>\n",
       "      <td>C29</td>\n",
       "      <td>1993-05-07</td>\n",
       "      <td>1990-03-01</td>\n",
       "      <td>四川省南充市涪江路117号</td>\n",
       "      <td>1.0</td>\n",
       "    </tr>\n",
       "    <tr>\n",
       "      <th>120</th>\n",
       "      <td>制造业(C)</td>\n",
       "      <td>000529</td>\n",
       "      <td>广弘控股</td>\n",
       "      <td>C13</td>\n",
       "      <td>1993-11-18</td>\n",
       "      <td>1992-07-05</td>\n",
       "      <td>广东省鹤山市沙坪镇人民西路40号</td>\n",
       "      <td>1.0</td>\n",
       "    </tr>\n",
       "  </tbody>\n",
       "</table>\n",
       "</div>"
      ],
      "text/plain": [
       "    Nnindnme   Stkcd Stknme Nnindcd      Listdt      Estbdt  \\\n",
       "37    制造业(C)  000048    康达尔     C13  1994-11-01  1994-09-21   \n",
       "96    制造业(C)  000488   晨鸣纸业     C22  2000-11-20  1993-05-05   \n",
       "102   制造业(C)  000505   京粮控股     C13  1992-12-21  1992-01-11   \n",
       "105   制造业(C)  000509   华塑控股     C29  1993-05-07  1990-03-01   \n",
       "120   制造业(C)  000529   广弘控股     C13  1993-11-18  1992-07-05   \n",
       "\n",
       "                 Regadd  Agri_m  \n",
       "37   广东省深圳市福田区滨河大道下步庙东侧     1.0  \n",
       "96        山东省寿光市圣城路595号     1.0  \n",
       "102    海南省海口经昆北路2号龙珠城1栋     1.0  \n",
       "105       四川省南充市涪江路117号     1.0  \n",
       "120    广东省鹤山市沙坪镇人民西路40号     1.0  "
      ]
     },
     "execution_count": 21,
     "metadata": {},
     "output_type": "execute_result"
    }
   ],
   "source": [
    "# 农产品加工企业\n",
    "agri = df[df.Agri_m == 1]\n",
    "agri.head()"
   ]
  },
  {
   "cell_type": "code",
   "execution_count": 23,
   "metadata": {},
   "outputs": [],
   "source": [
    "agri_location = cpca.transform(agri.Regadd)"
   ]
  },
  {
   "cell_type": "code",
   "execution_count": 24,
   "metadata": {},
   "outputs": [],
   "source": [
    "drawers.draw_locations(agri_location, \"agri_location.html\")"
   ]
  },
  {
   "cell_type": "code",
   "execution_count": 25,
   "metadata": {
    "collapsed": true
   },
   "outputs": [
    {
     "data": {
      "text/html": [
       "\n",
       "        <iframe\n",
       "            width=\"1000\"\n",
       "            height=\"800\"\n",
       "            src=\"agri_location.html\"\n",
       "            frameborder=\"0\"\n",
       "            allowfullscreen\n",
       "        ></iframe>\n",
       "        "
      ],
      "text/plain": [
       "<IPython.lib.display.IFrame at 0x7fc55a8ae9d0>"
      ]
     },
     "execution_count": 25,
     "metadata": {},
     "output_type": "execute_result"
    }
   ],
   "source": [
    "IFrame('agri_location.html', width=1000, height=800)"
   ]
  },
  {
   "cell_type": "code",
   "execution_count": 29,
   "metadata": {},
   "outputs": [
    {
     "data": {
      "text/plain": [
       "'{\"status\":\"1\",\"info\":\"OK\",\"infocode\":\"10000\",\"count\":\"1\",\"geocodes\":[{\"formatted_address\":\"江苏省苏州市张家港市沿江公路\",\"country\":\"中国\",\"province\":\"江苏省\",\"citycode\":\"0512\",\"city\":\"苏州市\",\"district\":\"张家港市\",\"township\":[],\"neighborhood\":{\"name\":[],\"type\":[]},\"building\":{\"name\":[],\"type\":[]},\"adcode\":\"320582\",\"street\":[],\"number\":[],\"location\":\"120.667326,31.980671\",\"level\":\"道路\"}]}'"
      ]
     },
     "execution_count": 29,
     "metadata": {},
     "output_type": "execute_result"
    }
   ],
   "source": [
    "# 利用高德地图API获取经纬度\n",
    "import requests\n",
    "import json\n",
    "\n",
    "# 输入API问号前固定不变的部分\n",
    "url='https://restapi.amap.com/v3/geocode/geo'\n",
    "# 将两个参数放入字典\n",
    "params = {'key': 'e2fac07f3a44b4f64fdaed667310152c',\n",
    "          'address': '张家港市锦丰镇三兴沿江公路',\n",
    "          'city': '张家港市'}\n",
    "\n",
    "res = requests.get(url, params)\n",
    "res.text"
   ]
  },
  {
   "cell_type": "code",
   "execution_count": 30,
   "metadata": {},
   "outputs": [],
   "source": [
    "# 输出结果为json，将其转为字典格式\n",
    "jd = json.loads(res.text)"
   ]
  },
  {
   "cell_type": "code",
   "execution_count": 31,
   "metadata": {},
   "outputs": [
    {
     "data": {
      "text/plain": [
       "{'status': '1',\n",
       " 'info': 'OK',\n",
       " 'infocode': '10000',\n",
       " 'count': '1',\n",
       " 'geocodes': [{'formatted_address': '江苏省苏州市张家港市沿江公路',\n",
       "   'country': '中国',\n",
       "   'province': '江苏省',\n",
       "   'citycode': '0512',\n",
       "   'city': '苏州市',\n",
       "   'district': '张家港市',\n",
       "   'township': [],\n",
       "   'neighborhood': {'name': [], 'type': []},\n",
       "   'building': {'name': [], 'type': []},\n",
       "   'adcode': '320582',\n",
       "   'street': [],\n",
       "   'number': [],\n",
       "   'location': '120.667326,31.980671',\n",
       "   'level': '道路'}]}"
      ]
     },
     "execution_count": 31,
     "metadata": {},
     "output_type": "execute_result"
    }
   ],
   "source": [
    "jd"
   ]
  },
  {
   "cell_type": "code",
   "execution_count": 32,
   "metadata": {},
   "outputs": [],
   "source": [
    "#经纬度\n",
    "coords = jd['geocodes'][0]['location']"
   ]
  },
  {
   "cell_type": "code",
   "execution_count": 33,
   "metadata": {},
   "outputs": [
    {
     "data": {
      "text/plain": [
       "'120.667326,31.980671'"
      ]
     },
     "execution_count": 33,
     "metadata": {},
     "output_type": "execute_result"
    }
   ],
   "source": [
    "coords"
   ]
  }
 ],
 "metadata": {
  "kernelspec": {
   "display_name": "Python 3",
   "language": "python",
   "name": "python3"
  },
  "language_info": {
   "codemirror_mode": {
    "name": "ipython",
    "version": 3
   },
   "file_extension": ".py",
   "mimetype": "text/x-python",
   "name": "python",
   "nbconvert_exporter": "python",
   "pygments_lexer": "ipython3",
   "version": "3.8.5"
  }
 },
 "nbformat": 4,
 "nbformat_minor": 4
}
