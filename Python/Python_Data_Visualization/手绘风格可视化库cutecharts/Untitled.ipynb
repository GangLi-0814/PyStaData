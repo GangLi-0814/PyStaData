{
 "cells": [
  {
   "cell_type": "markdown",
   "metadata": {},
   "source": [
    "# 前言"
   ]
  },
  {
   "cell_type": "markdown",
   "metadata": {},
   "source": [
    "cutecharts 的项目结构与 pyecharts 基本保持一致，拥有 pyecharts 的所有核心功能。但是整体更加小巧，代码更加精简。如果把 cutecharts 代码读完了，再去看 pyecharts 的代码，可能就会发现，其实也就那样，根本就没什么神秘的东西。"
   ]
  },
  {
   "cell_type": "markdown",
   "metadata": {},
   "source": [
    "## 使用示例"
   ]
  },
  {
   "cell_type": "markdown",
   "metadata": {},
   "source": [
    "### 线图"
   ]
  },
  {
   "cell_type": "code",
   "execution_count": 8,
   "metadata": {},
   "outputs": [
    {
     "data": {
      "text/plain": [
       "'\\n<!DOCTYPE html>\\n<html lang=\"en\">\\n<head>\\n    <meta charset=\"UTF-8\">\\n        <script type=\"text/javascript\" src=\"https://cdn.jsdelivr.net/npm/chart.xkcd@1.1/dist/chart.xkcd.min.js\"></script>\\n</head>\\n<body>\\n    <div id=\"af2a0bb133f249369da94b93c1203072\" class=\"chart-container\" style=\"width: 800px\">\\n        <svg id=\"chart_af2a0bb133f249369da94b93c1203072\"></svg>\\n    </div>\\n    <script>\\n        const svg_af2a0bb133f249369da94b93c1203072 = document.querySelector(\\'#chart_af2a0bb133f249369da94b93c1203072\\')\\n        const chart_af2a0bb133f249369da94b93c1203072 = new chartXkcd.Line(svg_af2a0bb133f249369da94b93c1203072, {\"title\": \"\\\\u67d0\\\\u5546\\\\u573a\\\\u9500\\\\u552e\\\\u60c5\\\\u51b5\", \"data\": {\"datasets\": [{\"label\": \"series-A\", \"data\": [57, 134, 137, 129, 145, 60, 49]}, {\"label\": \"series-B\", \"data\": [114, 55, 27, 101, 125, 27, 105]}, {\"label\": \"series-A\", \"data\": [57, 134, 137, 129, 145, 60, 49]}, {\"label\": \"series-B\", \"data\": [114, 55, 27, 101, 125, 27, 105]}, {\"label\": \"series-A\", \"data\": [57, 134, 137, 129, 145, 60, 49]}, {\"label\": \"series-B\", \"data\": [114, 55, 27, 101, 125, 27, 105]}, {\"label\": \"series-A\", \"data\": [57, 134, 137, 129, 145, 60, 49]}, {\"label\": \"series-B\", \"data\": [114, 55, 27, 101, 125, 27, 105]}, {\"label\": \"series-A\", \"data\": [57, 134, 137, 129, 145, 60, 49]}, {\"label\": \"series-B\", \"data\": [114, 55, 27, 101, 125, 27, 105]}], \"labels\": [\"\\\\u886c\\\\u886b\", \"\\\\u6bdb\\\\u8863\", \"\\\\u9886\\\\u5e26\", \"\\\\u88e4\\\\u5b50\", \"\\\\u98ce\\\\u8863\", \"\\\\u9ad8\\\\u8ddf\\\\u978b\", \"\\\\u889c\\\\u5b50\"]}, \"xLabel\": \"I\\'m xlabel\", \"yLabel\": \"I\\'m ylabel\", \"options\": {\"yTickCount\": 3, \"legendPosition\": 1}});\\n    </script>\\n</body>\\n</html>\\n'"
      ]
     },
     "execution_count": 8,
     "metadata": {},
     "output_type": "execute_result"
    }
   ],
   "source": [
    "from cutecharts.charts import Line\n",
    "\n",
    "\n",
    "charts = Line(\"某商场销售情况\")\n",
    "chart.set_options(\n",
    "    labels=[\"衬衫\", \"毛衣\", \"领带\", \"裤子\", \"风衣\", \"高跟鞋\", \"袜子\"], \n",
    "    x_label=\"I'm xlabel\", \n",
    "    y_label=\"I'm ylabel\",\n",
    ")\n",
    "chart.add_series(\"series-A\", [57, 134, 137, 129, 145, 60, 49])\n",
    "chart.add_series(\"series-B\", [114, 55, 27, 101, 125, 27, 105])\n",
    "chart.render()"
   ]
  },
  {
   "cell_type": "code",
   "execution_count": null,
   "metadata": {},
   "outputs": [],
   "source": [
    "### 雷达图"
   ]
  },
  {
   "cell_type": "code",
   "execution_count": 5,
   "metadata": {},
   "outputs": [
    {
     "data": {
      "text/html": [
       "\n",
       "<script>\n",
       "    require.config({\n",
       "        paths: {\n",
       "            'chartXkcd':'https://cdn.jsdelivr.net/npm/chart.xkcd@1.1/dist/chart.xkcd.min'\n",
       "        }\n",
       "    });\n",
       "</script>\n",
       "\n",
       "<div id=\"002c2964ced841a68b8670ca9f7c7066\" class=\"chart-container\" style=\"width: 800px\">\n",
       "        <svg id=\"chart_002c2964ced841a68b8670ca9f7c7066\"></svg>\n",
       "    </div>\n",
       "    <script>\n",
       "        require(['chartXkcd'], function(chartXkcd) {\n",
       "            const svg_002c2964ced841a68b8670ca9f7c7066 = document.querySelector('#chart_002c2964ced841a68b8670ca9f7c7066')\n",
       "            const chart_002c2964ced841a68b8670ca9f7c7066 = new chartXkcd.Radar(svg_002c2964ced841a68b8670ca9f7c7066, {\"title\": \"Radar-\\u57fa\\u672c\\u793a\\u4f8b\", \"data\": {\"datasets\": [{\"label\": \"series-A\", \"data\": [114, 67, 95, 45, 150, 107, 127]}, {\"label\": \"series=B\", \"data\": [44, 133, 109, 29, 114, 121, 137]}], \"labels\": [\"\\u54c8\\u58eb\\u5947\", \"\\u8428\\u6469\\u8036\", \"\\u6cf0\\u8fea\", \"\\u91d1\\u6bdb\", \"\\u7267\\u7f8a\\u72ac\", \"\\u5409\\u5a03\\u5a03\", \"\\u67ef\\u57fa\"]}, \"options\": {\"showLegend\": true, \"showLabel\": true, \"tickCount\": 3, \"legendPosition\": 1}});\n",
       "        })\n",
       "    </script>\n"
      ],
      "text/plain": [
       "<cutecharts.render.engine.HTML at 0x19cca252f08>"
      ]
     },
     "execution_count": 5,
     "metadata": {},
     "output_type": "execute_result"
    }
   ],
   "source": [
    "from cutecharts.charts import Radar\n",
    "from cutecharts.faker import Faker\n",
    "\n",
    "def radar_base() -> Radar:\n",
    "    chart = Radar(\"Radar-基本示例\")\n",
    "    chart.set_options(labels=Faker.choose())\n",
    "    chart.add_series('series-A',Faker.values())\n",
    "    chart.add_series('series=B',Faker.values())\n",
    "    return chart\n",
    "\n",
    "radar_base().render_notebook()"
   ]
  },
  {
   "cell_type": "code",
   "execution_count": null,
   "metadata": {},
   "outputs": [],
   "source": []
  },
  {
   "cell_type": "code",
   "execution_count": 3,
   "metadata": {},
   "outputs": [],
   "source": [
    "from cutecharts.charts import Pie\n",
    "from cutecharts.components import Page\n",
    "from cutecharts.faker import Faker\n",
    "\n",
    "\n",
    "def pie_base() -> Pie:\n",
    "    chart = Pie(\"Pie-基本示例\")\n",
    "    chart.set_options(labels=Faker.choose())\n",
    "    chart.add_series(Faker.values())\n",
    "    return chart\n",
    "\n",
    "\n",
    "pie_base().render()\n",
    "\n",
    "\n",
    "def pie_legend_font():\n",
    "    chart = Pie(\"Pie-Legend\")\n",
    "    chart.set_options(\n",
    "        labels=Faker.choose(),\n",
    "        legend_pos=\"upRight\",\n",
    "        font_family='\"Times New Roman\",Georgia,Serif;',\n",
    "    )\n",
    "    chart.add_series(Faker.values())\n",
    "    return chart\n",
    "\n",
    "\n",
    "def pie_radius():\n",
    "    chart = Pie(\"Pie-Radius\")\n",
    "    chart.set_options(labels=Faker.choose(), inner_radius=0)\n",
    "    chart.add_series(Faker.values())\n",
    "    return chart\n",
    "\n",
    "\n",
    "page = Page()\n",
    "page.add(pie_base(), pie_legend_font(), pie_radius())\n",
    "page.render()"
   ]
  },
  {
   "cell_type": "code",
   "execution_count": null,
   "metadata": {},
   "outputs": [],
   "source": []
  },
  {
   "cell_type": "code",
   "execution_count": null,
   "metadata": {},
   "outputs": [],
   "source": []
  },
  {
   "cell_type": "code",
   "execution_count": null,
   "metadata": {},
   "outputs": [],
   "source": []
  },
  {
   "cell_type": "code",
   "execution_count": null,
   "metadata": {},
   "outputs": [],
   "source": []
  }
 ],
 "metadata": {
  "kernelspec": {
   "display_name": "Python 3",
   "language": "python",
   "name": "python3"
  },
  "language_info": {
   "codemirror_mode": {
    "name": "ipython",
    "version": 3
   },
   "file_extension": ".py",
   "mimetype": "text/x-python",
   "name": "python",
   "nbconvert_exporter": "python",
   "pygments_lexer": "ipython3",
   "version": "3.7.4"
  },
  "toc": {
   "base_numbering": 1,
   "nav_menu": {},
   "number_sections": true,
   "sideBar": true,
   "skip_h1_title": false,
   "title_cell": "Table of Contents",
   "title_sidebar": "Contents",
   "toc_cell": false,
   "toc_position": {},
   "toc_section_display": true,
   "toc_window_display": false
  }
 },
 "nbformat": 4,
 "nbformat_minor": 2
}
