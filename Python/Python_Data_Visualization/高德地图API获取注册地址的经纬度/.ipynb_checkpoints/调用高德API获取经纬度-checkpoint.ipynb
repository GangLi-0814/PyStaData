{
 "cells": [
  {
   "cell_type": "markdown",
   "metadata": {},
   "source": [
    "## 调用高德API获取中文地址经纬度\n",
    "\n",
    "**事先阅读**：\n",
    "\n",
    "1.获取`key`:\n",
    "https://lbs.amap.com/api/webservice/guide/create-project/get-key\n",
    "\n",
    "2.地理/逆地理编码:\n",
    "https://lbs.amap.com/api/webservice/guide/api/georegeo\n",
    "\n",
    "3.错误码说明：\n",
    "https://lbs.amap.com/api/webservice/guide/tools/info/"
   ]
  },
  {
   "cell_type": "code",
   "execution_count": 1,
   "metadata": {},
   "outputs": [],
   "source": [
    "import pandas as pd\n",
    "import requests\n",
    "import json"
   ]
  },
  {
   "cell_type": "code",
   "execution_count": 2,
   "metadata": {},
   "outputs": [],
   "source": [
    "key= 'e2fac07f3a44b4f64fdaed667310152c' #填入申请的key\n",
    "\n",
    "#构建请求函数\n",
    "def coords(address):\n",
    "    url='https://restapi.amap.com/v3/geocode/geo'\n",
    "    params = {'key':key,\n",
    "          'address':address}\n",
    "    res = requests.get(url, params)\n",
    "    json_data = json.loads(res.text)['geocodes'][0]['location']\n",
    "    return json_data"
   ]
  },
  {
   "cell_type": "code",
   "execution_count": 3,
   "metadata": {},
   "outputs": [],
   "source": [
    "# 读入数据\n",
    "df = pd.read_stata(\"CSRC_2019q4_ok.dta\")"
   ]
  },
  {
   "cell_type": "code",
   "execution_count": 4,
   "metadata": {
    "scrolled": true
   },
   "outputs": [
    {
     "data": {
      "text/html": [
       "<div>\n",
       "<style scoped>\n",
       "    .dataframe tbody tr th:only-of-type {\n",
       "        vertical-align: middle;\n",
       "    }\n",
       "\n",
       "    .dataframe tbody tr th {\n",
       "        vertical-align: top;\n",
       "    }\n",
       "\n",
       "    .dataframe thead th {\n",
       "        text-align: right;\n",
       "    }\n",
       "</style>\n",
       "<table border=\"1\" class=\"dataframe\">\n",
       "  <thead>\n",
       "    <tr style=\"text-align: right;\">\n",
       "      <th></th>\n",
       "      <th>Nnindnme</th>\n",
       "      <th>Stkcd</th>\n",
       "      <th>Stknme</th>\n",
       "      <th>Nnindcd</th>\n",
       "      <th>Listdt</th>\n",
       "      <th>Estbdt</th>\n",
       "      <th>Regadd</th>\n",
       "      <th>Agri_m</th>\n",
       "    </tr>\n",
       "  </thead>\n",
       "  <tbody>\n",
       "    <tr>\n",
       "      <th>0</th>\n",
       "      <td>金融业(J)</td>\n",
       "      <td>000001</td>\n",
       "      <td>平安银行</td>\n",
       "      <td>J66</td>\n",
       "      <td>1991-04-03</td>\n",
       "      <td>1987-12-22</td>\n",
       "      <td>广东省深圳市深南中路178号深圳发展银行大厦</td>\n",
       "      <td>0.0</td>\n",
       "    </tr>\n",
       "    <tr>\n",
       "      <th>1</th>\n",
       "      <td>房地产业(K)</td>\n",
       "      <td>000002</td>\n",
       "      <td>万科A</td>\n",
       "      <td>K70</td>\n",
       "      <td>1991-01-29</td>\n",
       "      <td>1984-05-30</td>\n",
       "      <td>广东省深圳市罗湖区翠竹北水贝二路27号</td>\n",
       "      <td>0.0</td>\n",
       "    </tr>\n",
       "    <tr>\n",
       "      <th>2</th>\n",
       "      <td>制造业(C)</td>\n",
       "      <td>000004</td>\n",
       "      <td>国农科技</td>\n",
       "      <td>C27</td>\n",
       "      <td>1991-01-14</td>\n",
       "      <td>1986-05-05</td>\n",
       "      <td>广东省深圳市南山区蛇口公园路4号青少年活动中心B座三楼</td>\n",
       "      <td>0.0</td>\n",
       "    </tr>\n",
       "    <tr>\n",
       "      <th>3</th>\n",
       "      <td>水利、环境和公共\\n设施管理业(N)</td>\n",
       "      <td>000005</td>\n",
       "      <td>世纪星源</td>\n",
       "      <td>N77</td>\n",
       "      <td>1990-12-10</td>\n",
       "      <td>1987-07-23</td>\n",
       "      <td>广东省深圳市人民南路发展中心大厦13楼</td>\n",
       "      <td>0.0</td>\n",
       "    </tr>\n",
       "    <tr>\n",
       "      <th>4</th>\n",
       "      <td>房地产业(K)</td>\n",
       "      <td>000006</td>\n",
       "      <td>深振业A</td>\n",
       "      <td>K70</td>\n",
       "      <td>1992-04-27</td>\n",
       "      <td>1989-05-25</td>\n",
       "      <td>广东省深圳市宝安南路振业大厦29-32层</td>\n",
       "      <td>0.0</td>\n",
       "    </tr>\n",
       "  </tbody>\n",
       "</table>\n",
       "</div>"
      ],
      "text/plain": [
       "             Nnindnme   Stkcd Stknme Nnindcd      Listdt      Estbdt  \\\n",
       "0              金融业(J)  000001   平安银行     J66  1991-04-03  1987-12-22   \n",
       "1             房地产业(K)  000002    万科A     K70  1991-01-29  1984-05-30   \n",
       "2              制造业(C)  000004   国农科技     C27  1991-01-14  1986-05-05   \n",
       "3  水利、环境和公共\\n设施管理业(N)  000005   世纪星源     N77  1990-12-10  1987-07-23   \n",
       "4             房地产业(K)  000006   深振业A     K70  1992-04-27  1989-05-25   \n",
       "\n",
       "                        Regadd  Agri_m  \n",
       "0       广东省深圳市深南中路178号深圳发展银行大厦     0.0  \n",
       "1          广东省深圳市罗湖区翠竹北水贝二路27号     0.0  \n",
       "2  广东省深圳市南山区蛇口公园路4号青少年活动中心B座三楼     0.0  \n",
       "3          广东省深圳市人民南路发展中心大厦13楼     0.0  \n",
       "4         广东省深圳市宝安南路振业大厦29-32层     0.0  "
      ]
     },
     "execution_count": 4,
     "metadata": {},
     "output_type": "execute_result"
    }
   ],
   "source": [
    "df.head()"
   ]
  },
  {
   "cell_type": "code",
   "execution_count": 5,
   "metadata": {},
   "outputs": [
    {
     "data": {
      "text/plain": [
       "3750"
      ]
     },
     "execution_count": 5,
     "metadata": {},
     "output_type": "execute_result"
    }
   ],
   "source": [
    "df.shape[0]"
   ]
  },
  {
   "cell_type": "code",
   "execution_count": 8,
   "metadata": {},
   "outputs": [
    {
     "name": "stderr",
     "output_type": "stream",
     "text": [
      "<ipython-input-8-c854d2629112>:10: SettingWithCopyWarning: \n",
      "A value is trying to be set on a copy of a slice from a DataFrame\n",
      "\n",
      "See the caveats in the documentation: https://pandas.pydata.org/pandas-docs/stable/user_guide/indexing.html#returning-a-view-versus-a-copy\n",
      "  df[\"经度\"][i] = 0.00\n",
      "<ipython-input-8-c854d2629112>:11: SettingWithCopyWarning: \n",
      "A value is trying to be set on a copy of a slice from a DataFrame\n",
      "\n",
      "See the caveats in the documentation: https://pandas.pydata.org/pandas-docs/stable/user_guide/indexing.html#returning-a-view-versus-a-copy\n",
      "  df[\"纬度\"][i] = 0.00\n"
     ]
    }
   ],
   "source": [
    "df['经度'] = '' #创建新列存放经纬度\n",
    "df['纬度'] = ''\n",
    "\n",
    "for i in range(df.shape[0]):\n",
    "    adress = df['Regadd'][i]\n",
    "    coord = coords(adress)\n",
    "    df[\"经度\"][i] = float(coord.split(',')[0])\n",
    "    df[\"纬度\"][i] = float(coord.split(',')[1]) "
   ]
  },
  {
   "cell_type": "code",
   "execution_count": 10,
   "metadata": {
    "scrolled": true
   },
   "outputs": [
    {
     "data": {
      "text/html": [
       "<div>\n",
       "<style scoped>\n",
       "    .dataframe tbody tr th:only-of-type {\n",
       "        vertical-align: middle;\n",
       "    }\n",
       "\n",
       "    .dataframe tbody tr th {\n",
       "        vertical-align: top;\n",
       "    }\n",
       "\n",
       "    .dataframe thead th {\n",
       "        text-align: right;\n",
       "    }\n",
       "</style>\n",
       "<table border=\"1\" class=\"dataframe\">\n",
       "  <thead>\n",
       "    <tr style=\"text-align: right;\">\n",
       "      <th></th>\n",
       "      <th>Nnindnme</th>\n",
       "      <th>Stkcd</th>\n",
       "      <th>Stknme</th>\n",
       "      <th>Nnindcd</th>\n",
       "      <th>Listdt</th>\n",
       "      <th>Estbdt</th>\n",
       "      <th>Regadd</th>\n",
       "      <th>Agri_m</th>\n",
       "      <th>经度</th>\n",
       "      <th>纬度</th>\n",
       "    </tr>\n",
       "  </thead>\n",
       "  <tbody>\n",
       "    <tr>\n",
       "      <th>0</th>\n",
       "      <td>金融业(J)</td>\n",
       "      <td>000001</td>\n",
       "      <td>平安银行</td>\n",
       "      <td>J66</td>\n",
       "      <td>1991-04-03</td>\n",
       "      <td>1987-12-22</td>\n",
       "      <td>广东省深圳市深南中路178号深圳发展银行大厦</td>\n",
       "      <td>0.0</td>\n",
       "      <td>0</td>\n",
       "      <td>0</td>\n",
       "    </tr>\n",
       "    <tr>\n",
       "      <th>1</th>\n",
       "      <td>房地产业(K)</td>\n",
       "      <td>000002</td>\n",
       "      <td>万科A</td>\n",
       "      <td>K70</td>\n",
       "      <td>1991-01-29</td>\n",
       "      <td>1984-05-30</td>\n",
       "      <td>广东省深圳市罗湖区翠竹北水贝二路27号</td>\n",
       "      <td>0.0</td>\n",
       "      <td>0</td>\n",
       "      <td>0</td>\n",
       "    </tr>\n",
       "    <tr>\n",
       "      <th>2</th>\n",
       "      <td>制造业(C)</td>\n",
       "      <td>000004</td>\n",
       "      <td>国农科技</td>\n",
       "      <td>C27</td>\n",
       "      <td>1991-01-14</td>\n",
       "      <td>1986-05-05</td>\n",
       "      <td>广东省深圳市南山区蛇口公园路4号青少年活动中心B座三楼</td>\n",
       "      <td>0.0</td>\n",
       "      <td>0</td>\n",
       "      <td>0</td>\n",
       "    </tr>\n",
       "    <tr>\n",
       "      <th>3</th>\n",
       "      <td>水利、环境和公共\\n设施管理业(N)</td>\n",
       "      <td>000005</td>\n",
       "      <td>世纪星源</td>\n",
       "      <td>N77</td>\n",
       "      <td>1990-12-10</td>\n",
       "      <td>1987-07-23</td>\n",
       "      <td>广东省深圳市人民南路发展中心大厦13楼</td>\n",
       "      <td>0.0</td>\n",
       "      <td>0</td>\n",
       "      <td>0</td>\n",
       "    </tr>\n",
       "    <tr>\n",
       "      <th>4</th>\n",
       "      <td>房地产业(K)</td>\n",
       "      <td>000006</td>\n",
       "      <td>深振业A</td>\n",
       "      <td>K70</td>\n",
       "      <td>1992-04-27</td>\n",
       "      <td>1989-05-25</td>\n",
       "      <td>广东省深圳市宝安南路振业大厦29-32层</td>\n",
       "      <td>0.0</td>\n",
       "      <td>0</td>\n",
       "      <td>0</td>\n",
       "    </tr>\n",
       "  </tbody>\n",
       "</table>\n",
       "</div>"
      ],
      "text/plain": [
       "             Nnindnme   Stkcd Stknme Nnindcd      Listdt      Estbdt  \\\n",
       "0              金融业(J)  000001   平安银行     J66  1991-04-03  1987-12-22   \n",
       "1             房地产业(K)  000002    万科A     K70  1991-01-29  1984-05-30   \n",
       "2              制造业(C)  000004   国农科技     C27  1991-01-14  1986-05-05   \n",
       "3  水利、环境和公共\\n设施管理业(N)  000005   世纪星源     N77  1990-12-10  1987-07-23   \n",
       "4             房地产业(K)  000006   深振业A     K70  1992-04-27  1989-05-25   \n",
       "\n",
       "                        Regadd  Agri_m 经度 纬度  \n",
       "0       广东省深圳市深南中路178号深圳发展银行大厦     0.0  0  0  \n",
       "1          广东省深圳市罗湖区翠竹北水贝二路27号     0.0  0  0  \n",
       "2  广东省深圳市南山区蛇口公园路4号青少年活动中心B座三楼     0.0  0  0  \n",
       "3          广东省深圳市人民南路发展中心大厦13楼     0.0  0  0  \n",
       "4         广东省深圳市宝安南路振业大厦29-32层     0.0  0  0  "
      ]
     },
     "execution_count": 10,
     "metadata": {},
     "output_type": "execute_result"
    }
   ],
   "source": [
    "df.head()"
   ]
  },
  {
   "cell_type": "code",
   "execution_count": null,
   "metadata": {},
   "outputs": [],
   "source": [
    "df.to_excel('CSRC_2019q4_ok_with_gaode.xlsx',encoding = 'UTF-8')"
   ]
  },
  {
   "cell_type": "code",
   "execution_count": null,
   "metadata": {},
   "outputs": [],
   "source": []
  },
  {
   "cell_type": "code",
   "execution_count": null,
   "metadata": {},
   "outputs": [],
   "source": []
  },
  {
   "cell_type": "code",
   "execution_count": null,
   "metadata": {},
   "outputs": [],
   "source": []
  },
  {
   "cell_type": "code",
   "execution_count": null,
   "metadata": {},
   "outputs": [],
   "source": []
  },
  {
   "cell_type": "code",
   "execution_count": null,
   "metadata": {},
   "outputs": [],
   "source": []
  },
  {
   "cell_type": "code",
   "execution_count": null,
   "metadata": {},
   "outputs": [],
   "source": []
  },
  {
   "cell_type": "code",
   "execution_count": null,
   "metadata": {},
   "outputs": [],
   "source": []
  },
  {
   "cell_type": "code",
   "execution_count": null,
   "metadata": {},
   "outputs": [],
   "source": []
  },
  {
   "cell_type": "code",
   "execution_count": null,
   "metadata": {},
   "outputs": [],
   "source": []
  },
  {
   "cell_type": "code",
   "execution_count": null,
   "metadata": {},
   "outputs": [],
   "source": []
  },
  {
   "cell_type": "code",
   "execution_count": null,
   "metadata": {},
   "outputs": [],
   "source": []
  },
  {
   "cell_type": "code",
   "execution_count": 8,
   "metadata": {},
   "outputs": [],
   "source": []
  },
  {
   "cell_type": "code",
   "execution_count": null,
   "metadata": {},
   "outputs": [],
   "source": []
  },
  {
   "cell_type": "code",
   "execution_count": null,
   "metadata": {},
   "outputs": [],
   "source": []
  }
 ],
 "metadata": {
  "kernelspec": {
   "display_name": "Python 3",
   "language": "python",
   "name": "python3"
  },
  "language_info": {
   "codemirror_mode": {
    "name": "ipython",
    "version": 3
   },
   "file_extension": ".py",
   "mimetype": "text/x-python",
   "name": "python",
   "nbconvert_exporter": "python",
   "pygments_lexer": "ipython3",
   "version": "3.8.5"
  }
 },
 "nbformat": 4,
 "nbformat_minor": 4
}
