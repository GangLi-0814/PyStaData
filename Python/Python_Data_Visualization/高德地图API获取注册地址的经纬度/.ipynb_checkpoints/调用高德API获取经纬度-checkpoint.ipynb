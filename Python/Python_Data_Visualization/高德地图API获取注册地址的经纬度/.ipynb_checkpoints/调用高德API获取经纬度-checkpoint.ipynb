{
 "cells": [
  {
   "cell_type": "markdown",
   "metadata": {},
   "source": [
    "## 调用高德API获取中文地址经纬度\n",
    "\n",
    "**事先阅读**：\n",
    "\n",
    "1.获取`key`:\n",
    "https://lbs.amap.com/api/webservice/guide/create-project/get-key\n",
    "\n",
    "2.地理/逆地理编码:\n",
    "https://lbs.amap.com/api/webservice/guide/api/georegeo\n",
    "\n",
    "3.错误码说明：\n",
    "https://lbs.amap.com/api/webservice/guide/tools/info/"
   ]
  },
  {
   "cell_type": "code",
   "execution_count": 1,
   "metadata": {},
   "outputs": [],
   "source": [
    "import pandas as pd\n",
    "import requests\n",
    "import json"
   ]
  },
  {
   "cell_type": "code",
   "execution_count": 2,
   "metadata": {},
   "outputs": [],
   "source": [
    "key= '' #填入申请的key\n",
    "\n",
    "#构建请求函数\n",
    "def coords(address):\n",
    "    url='https://restapi.amap.com/v3/geocode/geo'\n",
    "    params = {'key':key,\n",
    "          'address':address}\n",
    "    res = requests.get(url, params)\n",
    "    json_data = json.loads(res.text)['geocodes'][0]['location']\n",
    "    return json_data"
   ]
  },
  {
   "cell_type": "code",
   "execution_count": 12,
   "metadata": {},
   "outputs": [],
   "source": [
    "# 读入数据\n",
    "df = pd.read_stata(\"CSRC_2019q4_ok.dta\")"
   ]
  },
  {
   "cell_type": "code",
   "execution_count": 13,
   "metadata": {
    "scrolled": true
   },
   "outputs": [
    {
     "data": {
      "text/html": [
       "<div>\n",
       "<style scoped>\n",
       "    .dataframe tbody tr th:only-of-type {\n",
       "        vertical-align: middle;\n",
       "    }\n",
       "\n",
       "    .dataframe tbody tr th {\n",
       "        vertical-align: top;\n",
       "    }\n",
       "\n",
       "    .dataframe thead th {\n",
       "        text-align: right;\n",
       "    }\n",
       "</style>\n",
       "<table border=\"1\" class=\"dataframe\">\n",
       "  <thead>\n",
       "    <tr style=\"text-align: right;\">\n",
       "      <th></th>\n",
       "      <th>Nnindnme</th>\n",
       "      <th>Stkcd</th>\n",
       "      <th>Stknme</th>\n",
       "      <th>Nnindcd</th>\n",
       "      <th>Listdt</th>\n",
       "      <th>Estbdt</th>\n",
       "      <th>Regadd</th>\n",
       "      <th>Agri_m</th>\n",
       "    </tr>\n",
       "  </thead>\n",
       "  <tbody>\n",
       "    <tr>\n",
       "      <th>0</th>\n",
       "      <td>制造业(C)</td>\n",
       "      <td>000048</td>\n",
       "      <td>康达尔</td>\n",
       "      <td>C13</td>\n",
       "      <td>1994-11-01</td>\n",
       "      <td>1994-09-21</td>\n",
       "      <td>广东省深圳市福田区滨河大道下步庙东侧</td>\n",
       "      <td>1.0</td>\n",
       "    </tr>\n",
       "    <tr>\n",
       "      <th>1</th>\n",
       "      <td>制造业(C)</td>\n",
       "      <td>000488</td>\n",
       "      <td>晨鸣纸业</td>\n",
       "      <td>C22</td>\n",
       "      <td>2000-11-20</td>\n",
       "      <td>1993-05-05</td>\n",
       "      <td>山东省寿光市圣城路595号</td>\n",
       "      <td>1.0</td>\n",
       "    </tr>\n",
       "    <tr>\n",
       "      <th>2</th>\n",
       "      <td>制造业(C)</td>\n",
       "      <td>000505</td>\n",
       "      <td>京粮控股</td>\n",
       "      <td>C13</td>\n",
       "      <td>1992-12-21</td>\n",
       "      <td>1992-01-11</td>\n",
       "      <td>海南省海口经昆北路2号龙珠城1栋</td>\n",
       "      <td>1.0</td>\n",
       "    </tr>\n",
       "    <tr>\n",
       "      <th>3</th>\n",
       "      <td>制造业(C)</td>\n",
       "      <td>000509</td>\n",
       "      <td>华塑控股</td>\n",
       "      <td>C29</td>\n",
       "      <td>1993-05-07</td>\n",
       "      <td>1990-03-01</td>\n",
       "      <td>四川省南充市涪江路117号</td>\n",
       "      <td>1.0</td>\n",
       "    </tr>\n",
       "    <tr>\n",
       "      <th>4</th>\n",
       "      <td>制造业(C)</td>\n",
       "      <td>000529</td>\n",
       "      <td>广弘控股</td>\n",
       "      <td>C13</td>\n",
       "      <td>1993-11-18</td>\n",
       "      <td>1992-07-05</td>\n",
       "      <td>广东省鹤山市沙坪镇人民西路40号</td>\n",
       "      <td>1.0</td>\n",
       "    </tr>\n",
       "  </tbody>\n",
       "</table>\n",
       "</div>"
      ],
      "text/plain": [
       "  Nnindnme   Stkcd Stknme Nnindcd      Listdt      Estbdt              Regadd  \\\n",
       "0   制造业(C)  000048    康达尔     C13  1994-11-01  1994-09-21  广东省深圳市福田区滨河大道下步庙东侧   \n",
       "1   制造业(C)  000488   晨鸣纸业     C22  2000-11-20  1993-05-05       山东省寿光市圣城路595号   \n",
       "2   制造业(C)  000505   京粮控股     C13  1992-12-21  1992-01-11    海南省海口经昆北路2号龙珠城1栋   \n",
       "3   制造业(C)  000509   华塑控股     C29  1993-05-07  1990-03-01       四川省南充市涪江路117号   \n",
       "4   制造业(C)  000529   广弘控股     C13  1993-11-18  1992-07-05    广东省鹤山市沙坪镇人民西路40号   \n",
       "\n",
       "   Agri_m  \n",
       "0     1.0  \n",
       "1     1.0  \n",
       "2     1.0  \n",
       "3     1.0  \n",
       "4     1.0  "
      ]
     },
     "execution_count": 13,
     "metadata": {},
     "output_type": "execute_result"
    }
   ],
   "source": [
    "df.head()"
   ]
  },
  {
   "cell_type": "code",
   "execution_count": 14,
   "metadata": {},
   "outputs": [
    {
     "data": {
      "text/plain": [
       "380"
      ]
     },
     "execution_count": 14,
     "metadata": {},
     "output_type": "execute_result"
    }
   ],
   "source": [
    "df.shape[0]"
   ]
  },
  {
   "cell_type": "code",
   "execution_count": 15,
   "metadata": {
    "collapsed": true
   },
   "outputs": [
    {
     "name": "stderr",
     "output_type": "stream",
     "text": [
      "<ipython-input-15-7ac3570f2f1d>:7: SettingWithCopyWarning: \n",
      "A value is trying to be set on a copy of a slice from a DataFrame\n",
      "\n",
      "See the caveats in the documentation: https://pandas.pydata.org/pandas-docs/stable/user_guide/indexing.html#returning-a-view-versus-a-copy\n",
      "  df[\"经度\"][i] = float(coord.split(',')[0])\n",
      "<ipython-input-15-7ac3570f2f1d>:8: SettingWithCopyWarning: \n",
      "A value is trying to be set on a copy of a slice from a DataFrame\n",
      "\n",
      "See the caveats in the documentation: https://pandas.pydata.org/pandas-docs/stable/user_guide/indexing.html#returning-a-view-versus-a-copy\n",
      "  df[\"纬度\"][i] = float(coord.split(',')[1])\n"
     ]
    }
   ],
   "source": [
    "# 批量转换\n",
    "df['经度'] = '' #创建新列存放经纬度\n",
    "df['纬度'] = ''\n",
    "\n",
    "for i in range(df.shape[0]):\n",
    "    adress = df['Regadd'][i]\n",
    "    coord = coords(adress)\n",
    "    df[\"经度\"][i] = float(coord.split(',')[0])\n",
    "    df[\"纬度\"][i] = float(coord.split(',')[1]) "
   ]
  },
  {
   "cell_type": "code",
   "execution_count": 16,
   "metadata": {
    "scrolled": false
   },
   "outputs": [
    {
     "data": {
      "text/html": [
       "<div>\n",
       "<style scoped>\n",
       "    .dataframe tbody tr th:only-of-type {\n",
       "        vertical-align: middle;\n",
       "    }\n",
       "\n",
       "    .dataframe tbody tr th {\n",
       "        vertical-align: top;\n",
       "    }\n",
       "\n",
       "    .dataframe thead th {\n",
       "        text-align: right;\n",
       "    }\n",
       "</style>\n",
       "<table border=\"1\" class=\"dataframe\">\n",
       "  <thead>\n",
       "    <tr style=\"text-align: right;\">\n",
       "      <th></th>\n",
       "      <th>Nnindnme</th>\n",
       "      <th>Stkcd</th>\n",
       "      <th>Stknme</th>\n",
       "      <th>Nnindcd</th>\n",
       "      <th>Listdt</th>\n",
       "      <th>Estbdt</th>\n",
       "      <th>Regadd</th>\n",
       "      <th>Agri_m</th>\n",
       "      <th>经度</th>\n",
       "      <th>纬度</th>\n",
       "    </tr>\n",
       "  </thead>\n",
       "  <tbody>\n",
       "    <tr>\n",
       "      <th>0</th>\n",
       "      <td>制造业(C)</td>\n",
       "      <td>000048</td>\n",
       "      <td>康达尔</td>\n",
       "      <td>C13</td>\n",
       "      <td>1994-11-01</td>\n",
       "      <td>1994-09-21</td>\n",
       "      <td>广东省深圳市福田区滨河大道下步庙东侧</td>\n",
       "      <td>1.0</td>\n",
       "      <td>114.089</td>\n",
       "      <td>22.5334</td>\n",
       "    </tr>\n",
       "    <tr>\n",
       "      <th>1</th>\n",
       "      <td>制造业(C)</td>\n",
       "      <td>000488</td>\n",
       "      <td>晨鸣纸业</td>\n",
       "      <td>C22</td>\n",
       "      <td>2000-11-20</td>\n",
       "      <td>1993-05-05</td>\n",
       "      <td>山东省寿光市圣城路595号</td>\n",
       "      <td>1.0</td>\n",
       "      <td>118.739</td>\n",
       "      <td>36.8732</td>\n",
       "    </tr>\n",
       "    <tr>\n",
       "      <th>2</th>\n",
       "      <td>制造业(C)</td>\n",
       "      <td>000505</td>\n",
       "      <td>京粮控股</td>\n",
       "      <td>C13</td>\n",
       "      <td>1992-12-21</td>\n",
       "      <td>1992-01-11</td>\n",
       "      <td>海南省海口经昆北路2号龙珠城1栋</td>\n",
       "      <td>1.0</td>\n",
       "      <td>110.198</td>\n",
       "      <td>20.044</td>\n",
       "    </tr>\n",
       "    <tr>\n",
       "      <th>3</th>\n",
       "      <td>制造业(C)</td>\n",
       "      <td>000509</td>\n",
       "      <td>华塑控股</td>\n",
       "      <td>C29</td>\n",
       "      <td>1993-05-07</td>\n",
       "      <td>1990-03-01</td>\n",
       "      <td>四川省南充市涪江路117号</td>\n",
       "      <td>1.0</td>\n",
       "      <td>106.081</td>\n",
       "      <td>30.7923</td>\n",
       "    </tr>\n",
       "    <tr>\n",
       "      <th>4</th>\n",
       "      <td>制造业(C)</td>\n",
       "      <td>000529</td>\n",
       "      <td>广弘控股</td>\n",
       "      <td>C13</td>\n",
       "      <td>1993-11-18</td>\n",
       "      <td>1992-07-05</td>\n",
       "      <td>广东省鹤山市沙坪镇人民西路40号</td>\n",
       "      <td>1.0</td>\n",
       "      <td>112.956</td>\n",
       "      <td>22.7623</td>\n",
       "    </tr>\n",
       "  </tbody>\n",
       "</table>\n",
       "</div>"
      ],
      "text/plain": [
       "  Nnindnme   Stkcd Stknme Nnindcd      Listdt      Estbdt              Regadd  \\\n",
       "0   制造业(C)  000048    康达尔     C13  1994-11-01  1994-09-21  广东省深圳市福田区滨河大道下步庙东侧   \n",
       "1   制造业(C)  000488   晨鸣纸业     C22  2000-11-20  1993-05-05       山东省寿光市圣城路595号   \n",
       "2   制造业(C)  000505   京粮控股     C13  1992-12-21  1992-01-11    海南省海口经昆北路2号龙珠城1栋   \n",
       "3   制造业(C)  000509   华塑控股     C29  1993-05-07  1990-03-01       四川省南充市涪江路117号   \n",
       "4   制造业(C)  000529   广弘控股     C13  1993-11-18  1992-07-05    广东省鹤山市沙坪镇人民西路40号   \n",
       "\n",
       "   Agri_m       经度       纬度  \n",
       "0     1.0  114.089  22.5334  \n",
       "1     1.0  118.739  36.8732  \n",
       "2     1.0  110.198   20.044  \n",
       "3     1.0  106.081  30.7923  \n",
       "4     1.0  112.956  22.7623  "
      ]
     },
     "execution_count": 16,
     "metadata": {},
     "output_type": "execute_result"
    }
   ],
   "source": [
    "df.head()"
   ]
  },
  {
   "cell_type": "code",
   "execution_count": null,
   "metadata": {},
   "outputs": [],
   "source": [
    "df.to_excel('CSRC_2019q4_ok_with_gaode.xlsx',encoding = 'UTF-8')"
   ]
  },
  {
   "cell_type": "code",
   "execution_count": null,
   "metadata": {},
   "outputs": [],
   "source": []
  },
  {
   "cell_type": "code",
   "execution_count": null,
   "metadata": {},
   "outputs": [],
   "source": []
  },
  {
   "cell_type": "code",
   "execution_count": null,
   "metadata": {},
   "outputs": [],
   "source": []
  },
  {
   "cell_type": "code",
   "execution_count": null,
   "metadata": {},
   "outputs": [],
   "source": []
  },
  {
   "cell_type": "code",
   "execution_count": null,
   "metadata": {},
   "outputs": [],
   "source": []
  },
  {
   "cell_type": "code",
   "execution_count": null,
   "metadata": {},
   "outputs": [],
   "source": []
  },
  {
   "cell_type": "code",
   "execution_count": null,
   "metadata": {},
   "outputs": [],
   "source": []
  },
  {
   "cell_type": "code",
   "execution_count": null,
   "metadata": {},
   "outputs": [],
   "source": []
  },
  {
   "cell_type": "code",
   "execution_count": null,
   "metadata": {},
   "outputs": [],
   "source": []
  },
  {
   "cell_type": "code",
   "execution_count": null,
   "metadata": {},
   "outputs": [],
   "source": []
  },
  {
   "cell_type": "code",
   "execution_count": null,
   "metadata": {},
   "outputs": [],
   "source": []
  },
  {
   "cell_type": "code",
   "execution_count": 8,
   "metadata": {},
   "outputs": [],
   "source": []
  },
  {
   "cell_type": "code",
   "execution_count": null,
   "metadata": {},
   "outputs": [],
   "source": []
  },
  {
   "cell_type": "code",
   "execution_count": null,
   "metadata": {},
   "outputs": [],
   "source": []
  }
 ],
 "metadata": {
  "kernelspec": {
   "display_name": "Python 3",
   "language": "python",
   "name": "python3"
  },
  "language_info": {
   "codemirror_mode": {
    "name": "ipython",
    "version": 3
   },
   "file_extension": ".py",
   "mimetype": "text/x-python",
   "name": "python",
   "nbconvert_exporter": "python",
   "pygments_lexer": "ipython3",
   "version": "3.8.5"
  }
 },
 "nbformat": 4,
 "nbformat_minor": 4
}
