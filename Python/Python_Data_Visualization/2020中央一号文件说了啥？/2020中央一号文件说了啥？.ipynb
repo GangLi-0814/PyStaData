{
 "cells": [
  {
   "cell_type": "markdown",
   "metadata": {},
   "source": [
    "## 读取文件"
   ]
  },
  {
   "cell_type": "code",
   "execution_count": 47,
   "metadata": {},
   "outputs": [],
   "source": [
    "import os\n",
    "from os.path import join\n",
    "\n",
    "os.getcwd()\n",
    "data_path = join(os.getcwd(), \"Data\")\n",
    "\n",
    "f = open(join(data_path, '2020年中央一号文件.txt'), \"r\", encoding=\"utf-8\")\n",
    "t = f.read()\n",
    "f.close()"
   ]
  },
  {
   "cell_type": "markdown",
   "metadata": {},
   "source": [
    "## 分词与词频统计"
   ]
  },
  {
   "cell_type": "code",
   "execution_count": 48,
   "metadata": {},
   "outputs": [],
   "source": [
    "import jieba\n",
    "import jieba.analyse as analyse\n",
    "\n",
    "# 分词\n",
    "ls = jieba.lcut(t)\n",
    "txt = \" \".join(ls)\n",
    "\n",
    "# 添加自定义词典\n",
    "jieba.suggest_freq(('十九大'), True)\n",
    "\n",
    "# 添加停用词\n",
    "stopwords = ['2020']\n",
    "ls = [x for x in ls if len(x) > 1 and x not in stopwords]\n",
    "\n",
    "# 基于 TF-IDF 算法的关键词抽取\n",
    "kw = \"  \".join(analyse.extract_tags(t, topK=20, withWeight=False, allowPOS=()))\n",
    "\n",
    "# 词频统计\n",
    "counts = {}\n",
    "for word in ls:\n",
    "    if len(word) == 1:\n",
    "        continue\n",
    "    else:\n",
    "        counts[word] = counts.get(word, 0) + 1\n",
    "items = list(counts.items())\n",
    "items.sort(key=lambda x: x[1], reverse=True)"
   ]
  },
  {
   "cell_type": "code",
   "execution_count": 49,
   "metadata": {},
   "outputs": [],
   "source": [
    "# 导出词频结果\n",
    "import numpy as np\n",
    "import pandas as pd\n",
    "\n",
    "df = pd.DataFrame(items, columns=['关键词', '频次'])\n",
    "df.to_csv(\"./Result/01_词频统计结果.csv\", index=None, encoding='utf_8_sig')"
   ]
  },
  {
   "cell_type": "code",
   "execution_count": 50,
   "metadata": {},
   "outputs": [
    {
     "data": {
      "text/html": [
       "<div>\n",
       "<style scoped>\n",
       "    .dataframe tbody tr th:only-of-type {\n",
       "        vertical-align: middle;\n",
       "    }\n",
       "\n",
       "    .dataframe tbody tr th {\n",
       "        vertical-align: top;\n",
       "    }\n",
       "\n",
       "    .dataframe thead th {\n",
       "        text-align: right;\n",
       "    }\n",
       "</style>\n",
       "<table border=\"1\" class=\"dataframe\">\n",
       "  <thead>\n",
       "    <tr style=\"text-align: right;\">\n",
       "      <th></th>\n",
       "      <th>关键词</th>\n",
       "      <th>频次</th>\n",
       "    </tr>\n",
       "  </thead>\n",
       "  <tbody>\n",
       "    <tr>\n",
       "      <th>0</th>\n",
       "      <td>农村</td>\n",
       "      <td>80</td>\n",
       "    </tr>\n",
       "    <tr>\n",
       "      <th>1</th>\n",
       "      <td>建设</td>\n",
       "      <td>48</td>\n",
       "    </tr>\n",
       "    <tr>\n",
       "      <th>2</th>\n",
       "      <td>农业</td>\n",
       "      <td>44</td>\n",
       "    </tr>\n",
       "    <tr>\n",
       "      <th>3</th>\n",
       "      <td>乡村</td>\n",
       "      <td>43</td>\n",
       "    </tr>\n",
       "    <tr>\n",
       "      <th>4</th>\n",
       "      <td>加强</td>\n",
       "      <td>40</td>\n",
       "    </tr>\n",
       "    <tr>\n",
       "      <th>5</th>\n",
       "      <td>工作</td>\n",
       "      <td>39</td>\n",
       "    </tr>\n",
       "    <tr>\n",
       "      <th>6</th>\n",
       "      <td>推进</td>\n",
       "      <td>33</td>\n",
       "    </tr>\n",
       "    <tr>\n",
       "      <th>7</th>\n",
       "      <td>脱贫</td>\n",
       "      <td>31</td>\n",
       "    </tr>\n",
       "    <tr>\n",
       "      <th>8</th>\n",
       "      <td>服务</td>\n",
       "      <td>25</td>\n",
       "    </tr>\n",
       "    <tr>\n",
       "      <th>9</th>\n",
       "      <td>全面</td>\n",
       "      <td>24</td>\n",
       "    </tr>\n",
       "  </tbody>\n",
       "</table>\n",
       "</div>"
      ],
      "text/plain": [
       "  关键词  频次\n",
       "0  农村  80\n",
       "1  建设  48\n",
       "2  农业  44\n",
       "3  乡村  43\n",
       "4  加强  40\n",
       "5  工作  39\n",
       "6  推进  33\n",
       "7  脱贫  31\n",
       "8  服务  25\n",
       "9  全面  24"
      ]
     },
     "execution_count": 50,
     "metadata": {},
     "output_type": "execute_result"
    }
   ],
   "source": [
    "df.head(10)"
   ]
  },
  {
   "cell_type": "markdown",
   "metadata": {},
   "source": [
    "## wordcloud 库绘制词云图"
   ]
  },
  {
   "cell_type": "code",
   "execution_count": 52,
   "metadata": {},
   "outputs": [
    {
     "data": {
      "text/plain": [
       "<wordcloud.wordcloud.WordCloud at 0x1c74734f1c8>"
      ]
     },
     "execution_count": 52,
     "metadata": {},
     "output_type": "execute_result"
    }
   ],
   "source": [
    "import wordcloud\n",
    "\n",
    "w = wordcloud.WordCloud(font_path=\"./Font/simhei.ttf\",\n",
    "                        width=1000, height=700, background_color=\"white\")\n",
    "w.generate(txt)\n",
    "w.to_file(\"./Result/02_wordcloud.png\")"
   ]
  },
  {
   "cell_type": "markdown",
   "metadata": {},
   "source": [
    "## Pyecharts 绘制动态词云"
   ]
  },
  {
   "cell_type": "code",
   "execution_count": 53,
   "metadata": {},
   "outputs": [
    {
     "data": {
      "text/plain": [
       "'C:\\\\Users\\\\mudaozi\\\\Documents\\\\WeChatPlatform\\\\2020中央一号文件说了啥？\\\\Result\\\\03_2020中央一号文件词云图.html'"
      ]
     },
     "execution_count": 53,
     "metadata": {},
     "output_type": "execute_result"
    }
   ],
   "source": [
    "from pyecharts import options as opts\n",
    "from pyecharts.charts import Page, WordCloud\n",
    "from pyecharts.globals import SymbolType\n",
    "\n",
    "\n",
    "def wordcloud_diamond() -> WordCloud:\n",
    "    words = items[:100] # 绘制前 100 个词\n",
    "    c = (\n",
    "        WordCloud()\n",
    "        .add(\"\", words, word_size_range=[20, 100], shape=SymbolType.DIAMOND)\n",
    "        .set_global_opts(title_opts=opts.TitleOpts(title=\"2020中央一号文件词云\"))\n",
    "    )\n",
    "    return c\n",
    "\n",
    "\n",
    "wordcloud_diamond().render('./Result/03_2020中央一号文件词云图.html')"
   ]
  },
  {
   "cell_type": "code",
   "execution_count": null,
   "metadata": {},
   "outputs": [],
   "source": []
  }
 ],
 "metadata": {
  "kernelspec": {
   "display_name": "Python 3",
   "language": "python",
   "name": "python3"
  },
  "language_info": {
   "codemirror_mode": {
    "name": "ipython",
    "version": 3
   },
   "file_extension": ".py",
   "mimetype": "text/x-python",
   "name": "python",
   "nbconvert_exporter": "python",
   "pygments_lexer": "ipython3",
   "version": "3.7.4"
  },
  "toc": {
   "base_numbering": 1,
   "nav_menu": {},
   "number_sections": true,
   "sideBar": true,
   "skip_h1_title": false,
   "title_cell": "Table of Contents",
   "title_sidebar": "Contents",
   "toc_cell": false,
   "toc_position": {},
   "toc_section_display": true,
   "toc_window_display": false
  }
 },
 "nbformat": 4,
 "nbformat_minor": 2
}
