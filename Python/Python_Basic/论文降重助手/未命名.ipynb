{
 "cells": [
  {
   "cell_type": "code",
   "execution_count": 46,
   "metadata": {},
   "outputs": [],
   "source": [
    "import requests\n",
    "import random\n",
    "import json\n",
    "from hashlib import md5"
   ]
  },
  {
   "cell_type": "code",
   "execution_count": 47,
   "metadata": {},
   "outputs": [],
   "source": [
    "def make_md5(s, encoding='utf-8'):\n",
    "    '''\n",
    "    生成随机数和签名\n",
    "    '''\n",
    "    return md5(s.encode(encoding)).hexdigest()"
   ]
  },
  {
   "cell_type": "code",
   "execution_count": 61,
   "metadata": {},
   "outputs": [],
   "source": [
    "def translate(query, from_lang, to_lang):\n",
    "    '''\n",
    "    调用百度翻译 API\n",
    "    '''\n",
    "    url = 'http://api.fanyi.baidu.com/api/trans/vip/translate'\n",
    "    salt = random.randint(1, 65536) #随机数\n",
    "    sign = make_md5(appid + query + str(salt) + appkey)\n",
    "\n",
    "    # 构造请求\n",
    "    headers = {'Content-Type': 'application/x-www-form-urlencoded'}\n",
    "    payload = {'appid': appid, \n",
    "               'q': query, \n",
    "               'from': from_lang, \n",
    "               'to': to_lang, \n",
    "               'salt': salt, \n",
    "               'sign': sign\n",
    "              }\n",
    "    r = requests.post(url, params=payload, headers=headers)\n",
    "    text = r.json()\n",
    "    result = text['trans_result'][0]['dst']\n",
    "    return result"
   ]
  },
  {
   "cell_type": "code",
   "execution_count": 62,
   "metadata": {},
   "outputs": [
    {
     "name": "stdout",
     "output_type": "stream",
     "text": [
      "This is the text I want to reduce weight\n"
     ]
    }
   ],
   "source": [
    "appid = \"20210308000719746\"\n",
    "appkey = \"wRJ1Nk3ZyDNDwYVAMZW_\"\n",
    "query = '这是我要降重的文字'\n",
    "print(translate(query,\"zh\",\"en\"))"
   ]
  },
  {
   "cell_type": "code",
   "execution_count": 22,
   "metadata": {},
   "outputs": [],
   "source": [
    "def transAssistant(query):\n",
    "    '''\n",
    "    中-英-日-中\n",
    "    '''\n",
    "    en = translate(query,'zh','en') #中文-英文\n",
    "    jp = translate(en,'en','jp') #英文-日文\n",
    "    zh = translate(jp,'jp','zh') #日文-中文\n",
    "    return zh"
   ]
  },
  {
   "cell_type": "code",
   "execution_count": 63,
   "metadata": {},
   "outputs": [
    {
     "name": "stdout",
     "output_type": "stream",
     "text": [
      "这是想减轻体重的教材\n"
     ]
    }
   ],
   "source": [
    "query = '这是我要降重的文字'\n",
    "print(transAssistant(query))"
   ]
  },
  {
   "cell_type": "code",
   "execution_count": null,
   "metadata": {},
   "outputs": [],
   "source": []
  },
  {
   "cell_type": "code",
   "execution_count": null,
   "metadata": {},
   "outputs": [],
   "source": []
  },
  {
   "cell_type": "code",
   "execution_count": null,
   "metadata": {},
   "outputs": [],
   "source": []
  },
  {
   "cell_type": "code",
   "execution_count": null,
   "metadata": {},
   "outputs": [],
   "source": []
  },
  {
   "cell_type": "code",
   "execution_count": 60,
   "metadata": {},
   "outputs": [
    {
     "name": "stdout",
     "output_type": "stream",
     "text": [
      "你好，世界！这是第一段。\n"
     ]
    }
   ],
   "source": [
    "# -*- coding: utf-8 -*-\n",
    "\n",
    "# This code shows an example of text translation from English to Simplified-Chinese.\n",
    "# This code runs on Python 2.7.x and Python 3.x.\n",
    "# You may install `requests` to run this code: pip install requests\n",
    "# Please refer to `https://api.fanyi.baidu.com/doc/21` for complete api document\n",
    "\n",
    "import requests\n",
    "import random\n",
    "import json\n",
    "from hashlib import md5\n",
    "\n",
    "# Set your own appid/appkey.\n",
    "# appid = 'INPUT_YOUR_APPID'\n",
    "# appkey = 'INPUT_YOUR_APPKEY'\n",
    "appid = \"20210308000719746\"\n",
    "appkey = \"wRJ1Nk3ZyDNDwYVAMZW_\"\n",
    "\n",
    "# For list of language codes, please refer to `https://api.fanyi.baidu.com/doc/21`\n",
    "from_lang = 'en'\n",
    "to_lang =  'zh'\n",
    "\n",
    "endpoint = 'http://api.fanyi.baidu.com'\n",
    "path = '/api/trans/vip/translate'\n",
    "url = endpoint + path\n",
    "\n",
    "query = 'Hello World! This is 1st paragraph.\\nThis is 2nd paragraph.'\n",
    "\n",
    "# Generate salt and sign\n",
    "def make_md5(s, encoding='utf-8'):\n",
    "    return md5(s.encode(encoding)).hexdigest()\n",
    "\n",
    "salt = random.randint(32768, 65536)\n",
    "sign = make_md5(appid + query + str(salt) + appkey)\n",
    "\n",
    "# Build request\n",
    "headers = {'Content-Type': 'application/x-www-form-urlencoded'}\n",
    "payload = {'appid': appid, 'q': query, 'from': from_lang, 'to': to_lang, 'salt': salt, 'sign': sign}\n",
    "\n",
    "# Send request\n",
    "r = requests.post(url, params=payload, headers=headers)\n",
    "result = r.json()\n",
    "print(result['trans_result'][0]['dst'])\n",
    "# Show response\n",
    "# print(json.dumps(result, indent=4, ensure_ascii=False))"
   ]
  }
 ],
 "metadata": {
  "kernelspec": {
   "display_name": "Python 3",
   "language": "python",
   "name": "python3"
  },
  "language_info": {
   "codemirror_mode": {
    "name": "ipython",
    "version": 3
   },
   "file_extension": ".py",
   "mimetype": "text/x-python",
   "name": "python",
   "nbconvert_exporter": "python",
   "pygments_lexer": "ipython3",
   "version": "3.8.5"
  }
 },
 "nbformat": 4,
 "nbformat_minor": 4
}
