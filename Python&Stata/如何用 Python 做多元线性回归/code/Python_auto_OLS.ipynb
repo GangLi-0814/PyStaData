{
 "cells": [
  {
   "cell_type": "markdown",
   "metadata": {},
   "source": [
    "# 定义路径和导入数据"
   ]
  },
  {
   "cell_type": "code",
   "execution_count": 31,
   "metadata": {},
   "outputs": [],
   "source": [
    "import os\n",
    "from os.path import join\n",
    "import numpy as np\n",
    "import pandas as pd"
   ]
  },
  {
   "cell_type": "code",
   "execution_count": 32,
   "metadata": {},
   "outputs": [],
   "source": [
    "os.getcwd()\n",
    "data_path = join(os.getcwd(), 'data') # data 文件夹的路径"
   ]
  },
  {
   "cell_type": "code",
   "execution_count": 33,
   "metadata": {},
   "outputs": [
    {
     "data": {
      "text/html": [
       "<div>\n",
       "<style scoped>\n",
       "    .dataframe tbody tr th:only-of-type {\n",
       "        vertical-align: middle;\n",
       "    }\n",
       "\n",
       "    .dataframe tbody tr th {\n",
       "        vertical-align: top;\n",
       "    }\n",
       "\n",
       "    .dataframe thead th {\n",
       "        text-align: right;\n",
       "    }\n",
       "</style>\n",
       "<table border=\"1\" class=\"dataframe\">\n",
       "  <thead>\n",
       "    <tr style=\"text-align: right;\">\n",
       "      <th></th>\n",
       "      <th>make</th>\n",
       "      <th>price</th>\n",
       "      <th>mpg</th>\n",
       "      <th>rep78</th>\n",
       "      <th>headroom</th>\n",
       "      <th>trunk</th>\n",
       "      <th>weight</th>\n",
       "      <th>length</th>\n",
       "      <th>turn</th>\n",
       "      <th>displacement</th>\n",
       "      <th>gear_ratio</th>\n",
       "      <th>foreign</th>\n",
       "    </tr>\n",
       "  </thead>\n",
       "  <tbody>\n",
       "    <tr>\n",
       "      <th>0</th>\n",
       "      <td>AMC Concord</td>\n",
       "      <td>4099</td>\n",
       "      <td>22</td>\n",
       "      <td>3.0</td>\n",
       "      <td>2.5</td>\n",
       "      <td>11</td>\n",
       "      <td>2930</td>\n",
       "      <td>186</td>\n",
       "      <td>40</td>\n",
       "      <td>121</td>\n",
       "      <td>3.58</td>\n",
       "      <td>Domestic</td>\n",
       "    </tr>\n",
       "    <tr>\n",
       "      <th>1</th>\n",
       "      <td>AMC Pacer</td>\n",
       "      <td>4749</td>\n",
       "      <td>17</td>\n",
       "      <td>3.0</td>\n",
       "      <td>3.0</td>\n",
       "      <td>11</td>\n",
       "      <td>3350</td>\n",
       "      <td>173</td>\n",
       "      <td>40</td>\n",
       "      <td>258</td>\n",
       "      <td>2.53</td>\n",
       "      <td>Domestic</td>\n",
       "    </tr>\n",
       "    <tr>\n",
       "      <th>2</th>\n",
       "      <td>AMC Spirit</td>\n",
       "      <td>3799</td>\n",
       "      <td>22</td>\n",
       "      <td>NaN</td>\n",
       "      <td>3.0</td>\n",
       "      <td>12</td>\n",
       "      <td>2640</td>\n",
       "      <td>168</td>\n",
       "      <td>35</td>\n",
       "      <td>121</td>\n",
       "      <td>3.08</td>\n",
       "      <td>Domestic</td>\n",
       "    </tr>\n",
       "    <tr>\n",
       "      <th>3</th>\n",
       "      <td>Buick Century</td>\n",
       "      <td>4816</td>\n",
       "      <td>20</td>\n",
       "      <td>3.0</td>\n",
       "      <td>4.5</td>\n",
       "      <td>16</td>\n",
       "      <td>3250</td>\n",
       "      <td>196</td>\n",
       "      <td>40</td>\n",
       "      <td>196</td>\n",
       "      <td>2.93</td>\n",
       "      <td>Domestic</td>\n",
       "    </tr>\n",
       "    <tr>\n",
       "      <th>4</th>\n",
       "      <td>Buick Electra</td>\n",
       "      <td>7827</td>\n",
       "      <td>15</td>\n",
       "      <td>4.0</td>\n",
       "      <td>4.0</td>\n",
       "      <td>20</td>\n",
       "      <td>4080</td>\n",
       "      <td>222</td>\n",
       "      <td>43</td>\n",
       "      <td>350</td>\n",
       "      <td>2.41</td>\n",
       "      <td>Domestic</td>\n",
       "    </tr>\n",
       "  </tbody>\n",
       "</table>\n",
       "</div>"
      ],
      "text/plain": [
       "            make  price  mpg  rep78  headroom  trunk  weight  length  turn  \\\n",
       "0    AMC Concord   4099   22    3.0       2.5     11    2930     186    40   \n",
       "1      AMC Pacer   4749   17    3.0       3.0     11    3350     173    40   \n",
       "2     AMC Spirit   3799   22    NaN       3.0     12    2640     168    35   \n",
       "3  Buick Century   4816   20    3.0       4.5     16    3250     196    40   \n",
       "4  Buick Electra   7827   15    4.0       4.0     20    4080     222    43   \n",
       "\n",
       "   displacement  gear_ratio   foreign  \n",
       "0           121        3.58  Domestic  \n",
       "1           258        2.53  Domestic  \n",
       "2           121        3.08  Domestic  \n",
       "3           196        2.93  Domestic  \n",
       "4           350        2.41  Domestic  "
      ]
     },
     "execution_count": 33,
     "metadata": {},
     "output_type": "execute_result"
    }
   ],
   "source": [
    "data = pd.read_stata(join(data_path,'auto.dta'))\n",
    "data.head() # 预览前 5 条数据"
   ]
  },
  {
   "cell_type": "markdown",
   "metadata": {},
   "source": [
    "# 数据概览"
   ]
  },
  {
   "cell_type": "code",
   "execution_count": 34,
   "metadata": {},
   "outputs": [
    {
     "name": "stdout",
     "output_type": "stream",
     "text": [
      "<class 'pandas.core.frame.DataFrame'>\n",
      "Int64Index: 74 entries, 0 to 73\n",
      "Data columns (total 12 columns):\n",
      " #   Column        Non-Null Count  Dtype   \n",
      "---  ------        --------------  -----   \n",
      " 0   make          74 non-null     object  \n",
      " 1   price         74 non-null     int16   \n",
      " 2   mpg           74 non-null     int16   \n",
      " 3   rep78         69 non-null     float64 \n",
      " 4   headroom      74 non-null     float32 \n",
      " 5   trunk         74 non-null     int16   \n",
      " 6   weight        74 non-null     int16   \n",
      " 7   length        74 non-null     int16   \n",
      " 8   turn          74 non-null     int16   \n",
      " 9   displacement  74 non-null     int16   \n",
      " 10  gear_ratio    74 non-null     float32 \n",
      " 11  foreign       74 non-null     category\n",
      "dtypes: category(1), float32(2), float64(1), int16(7), object(1)\n",
      "memory usage: 3.5+ KB\n"
     ]
    }
   ],
   "source": [
    "data.info()"
   ]
  },
  {
   "cell_type": "markdown",
   "metadata": {},
   "source": [
    "# 描述性统计"
   ]
  },
  {
   "cell_type": "markdown",
   "metadata": {},
   "source": [
    "## 使用 `decscribe()` 方法"
   ]
  },
  {
   "cell_type": "code",
   "execution_count": 35,
   "metadata": {},
   "outputs": [
    {
     "data": {
      "text/html": [
       "<div>\n",
       "<style scoped>\n",
       "    .dataframe tbody tr th:only-of-type {\n",
       "        vertical-align: middle;\n",
       "    }\n",
       "\n",
       "    .dataframe tbody tr th {\n",
       "        vertical-align: top;\n",
       "    }\n",
       "\n",
       "    .dataframe thead th {\n",
       "        text-align: right;\n",
       "    }\n",
       "</style>\n",
       "<table border=\"1\" class=\"dataframe\">\n",
       "  <thead>\n",
       "    <tr style=\"text-align: right;\">\n",
       "      <th></th>\n",
       "      <th>count</th>\n",
       "      <th>mean</th>\n",
       "      <th>std</th>\n",
       "      <th>min</th>\n",
       "      <th>25%</th>\n",
       "      <th>50%</th>\n",
       "      <th>75%</th>\n",
       "      <th>max</th>\n",
       "    </tr>\n",
       "  </thead>\n",
       "  <tbody>\n",
       "    <tr>\n",
       "      <th>price</th>\n",
       "      <td>74.0</td>\n",
       "      <td>6165.256757</td>\n",
       "      <td>2949.495885</td>\n",
       "      <td>3291.00</td>\n",
       "      <td>4220.25</td>\n",
       "      <td>5006.500</td>\n",
       "      <td>6332.2500</td>\n",
       "      <td>15906.00</td>\n",
       "    </tr>\n",
       "    <tr>\n",
       "      <th>mpg</th>\n",
       "      <td>74.0</td>\n",
       "      <td>21.297297</td>\n",
       "      <td>5.785503</td>\n",
       "      <td>12.00</td>\n",
       "      <td>18.00</td>\n",
       "      <td>20.000</td>\n",
       "      <td>24.7500</td>\n",
       "      <td>41.00</td>\n",
       "    </tr>\n",
       "    <tr>\n",
       "      <th>rep78</th>\n",
       "      <td>69.0</td>\n",
       "      <td>3.405797</td>\n",
       "      <td>0.989932</td>\n",
       "      <td>1.00</td>\n",
       "      <td>3.00</td>\n",
       "      <td>3.000</td>\n",
       "      <td>4.0000</td>\n",
       "      <td>5.00</td>\n",
       "    </tr>\n",
       "    <tr>\n",
       "      <th>headroom</th>\n",
       "      <td>74.0</td>\n",
       "      <td>2.993243</td>\n",
       "      <td>0.845995</td>\n",
       "      <td>1.50</td>\n",
       "      <td>2.50</td>\n",
       "      <td>3.000</td>\n",
       "      <td>3.5000</td>\n",
       "      <td>5.00</td>\n",
       "    </tr>\n",
       "    <tr>\n",
       "      <th>trunk</th>\n",
       "      <td>74.0</td>\n",
       "      <td>13.756757</td>\n",
       "      <td>4.277404</td>\n",
       "      <td>5.00</td>\n",
       "      <td>10.25</td>\n",
       "      <td>14.000</td>\n",
       "      <td>16.7500</td>\n",
       "      <td>23.00</td>\n",
       "    </tr>\n",
       "    <tr>\n",
       "      <th>weight</th>\n",
       "      <td>74.0</td>\n",
       "      <td>3019.459459</td>\n",
       "      <td>777.193567</td>\n",
       "      <td>1760.00</td>\n",
       "      <td>2250.00</td>\n",
       "      <td>3190.000</td>\n",
       "      <td>3600.0000</td>\n",
       "      <td>4840.00</td>\n",
       "    </tr>\n",
       "    <tr>\n",
       "      <th>length</th>\n",
       "      <td>74.0</td>\n",
       "      <td>187.932432</td>\n",
       "      <td>22.266340</td>\n",
       "      <td>142.00</td>\n",
       "      <td>170.00</td>\n",
       "      <td>192.500</td>\n",
       "      <td>203.7500</td>\n",
       "      <td>233.00</td>\n",
       "    </tr>\n",
       "    <tr>\n",
       "      <th>turn</th>\n",
       "      <td>74.0</td>\n",
       "      <td>39.648649</td>\n",
       "      <td>4.399354</td>\n",
       "      <td>31.00</td>\n",
       "      <td>36.00</td>\n",
       "      <td>40.000</td>\n",
       "      <td>43.0000</td>\n",
       "      <td>51.00</td>\n",
       "    </tr>\n",
       "    <tr>\n",
       "      <th>displacement</th>\n",
       "      <td>74.0</td>\n",
       "      <td>197.297297</td>\n",
       "      <td>91.837219</td>\n",
       "      <td>79.00</td>\n",
       "      <td>119.00</td>\n",
       "      <td>196.000</td>\n",
       "      <td>245.2500</td>\n",
       "      <td>425.00</td>\n",
       "    </tr>\n",
       "    <tr>\n",
       "      <th>gear_ratio</th>\n",
       "      <td>74.0</td>\n",
       "      <td>3.014865</td>\n",
       "      <td>0.456287</td>\n",
       "      <td>2.19</td>\n",
       "      <td>2.73</td>\n",
       "      <td>2.955</td>\n",
       "      <td>3.3525</td>\n",
       "      <td>3.89</td>\n",
       "    </tr>\n",
       "  </tbody>\n",
       "</table>\n",
       "</div>"
      ],
      "text/plain": [
       "              count         mean          std      min      25%       50%  \\\n",
       "price          74.0  6165.256757  2949.495885  3291.00  4220.25  5006.500   \n",
       "mpg            74.0    21.297297     5.785503    12.00    18.00    20.000   \n",
       "rep78          69.0     3.405797     0.989932     1.00     3.00     3.000   \n",
       "headroom       74.0     2.993243     0.845995     1.50     2.50     3.000   \n",
       "trunk          74.0    13.756757     4.277404     5.00    10.25    14.000   \n",
       "weight         74.0  3019.459459   777.193567  1760.00  2250.00  3190.000   \n",
       "length         74.0   187.932432    22.266340   142.00   170.00   192.500   \n",
       "turn           74.0    39.648649     4.399354    31.00    36.00    40.000   \n",
       "displacement   74.0   197.297297    91.837219    79.00   119.00   196.000   \n",
       "gear_ratio     74.0     3.014865     0.456287     2.19     2.73     2.955   \n",
       "\n",
       "                    75%       max  \n",
       "price         6332.2500  15906.00  \n",
       "mpg             24.7500     41.00  \n",
       "rep78            4.0000      5.00  \n",
       "headroom         3.5000      5.00  \n",
       "trunk           16.7500     23.00  \n",
       "weight        3600.0000   4840.00  \n",
       "length         203.7500    233.00  \n",
       "turn            43.0000     51.00  \n",
       "displacement   245.2500    425.00  \n",
       "gear_ratio       3.3525      3.89  "
      ]
     },
     "execution_count": 35,
     "metadata": {},
     "output_type": "execute_result"
    }
   ],
   "source": [
    "data.describe().T"
   ]
  },
  {
   "cell_type": "markdown",
   "metadata": {},
   "source": [
    "## 计算生成"
   ]
  },
  {
   "cell_type": "code",
   "execution_count": 36,
   "metadata": {},
   "outputs": [
    {
     "name": "stdout",
     "output_type": "stream",
     "text": [
      "描述性统计结果：\n",
      "                       Min        Max     Mean       STD\n",
      "make          AMC Concord  Volvo 260      NaN       NaN\n",
      "price                3291      15906  6165.26    2949.5\n",
      "mpg                    12         41  21.2973    5.7855\n",
      "rep78                   1          5   3.4058  0.989932\n",
      "headroom              1.5          5  2.99324  0.845995\n",
      "trunk                   5         23  13.7568    4.2774\n",
      "weight               1760       4840  3019.46   777.194\n",
      "length                142        233  187.932   22.2663\n",
      "turn                   31         51  39.6486   4.39935\n",
      "displacement           79        425  197.297   91.8372\n",
      "gear_ratio           2.19       3.89  3.01486  0.456287\n",
      "foreign          Domestic    Foreign      NaN       NaN\n"
     ]
    }
   ],
   "source": [
    "description = [data.min(), data.max(), data.mean(),\n",
    "               data.std()]  # 依次计算最小值、最大值、均值、标准差\n",
    "description = pd.DataFrame(\n",
    "    description, index=['Min', 'Max', 'Mean', 'STD']).T  # 将结果存入数据框\n",
    "print('描述性统计结果：\\n', np.round(description, 2))  # 保留两位小数"
   ]
  },
  {
   "cell_type": "markdown",
   "metadata": {},
   "source": [
    "# 相关系数"
   ]
  },
  {
   "cell_type": "markdown",
   "metadata": {},
   "source": [
    "## 计算相关系数矩阵"
   ]
  },
  {
   "cell_type": "code",
   "execution_count": 37,
   "metadata": {},
   "outputs": [
    {
     "name": "stdout",
     "output_type": "stream",
     "text": [
      "相关系数矩阵为：\n",
      "               price   mpg  rep78  headroom  trunk  weight  length  turn  \\\n",
      "price          1.00 -0.47   0.01      0.11   0.31    0.54    0.43  0.31   \n",
      "mpg           -0.47  1.00   0.40     -0.41  -0.58   -0.81   -0.80 -0.72   \n",
      "rep78          0.01  0.40   1.00     -0.15  -0.16   -0.40   -0.36 -0.50   \n",
      "headroom       0.11 -0.41  -0.15      1.00   0.66    0.48    0.52  0.42   \n",
      "trunk          0.31 -0.58  -0.16      0.66   1.00    0.67    0.73  0.60   \n",
      "weight         0.54 -0.81  -0.40      0.48   0.67    1.00    0.95  0.86   \n",
      "length         0.43 -0.80  -0.36      0.52   0.73    0.95    1.00  0.86   \n",
      "turn           0.31 -0.72  -0.50      0.42   0.60    0.86    0.86  1.00   \n",
      "displacement   0.49 -0.71  -0.41      0.47   0.61    0.89    0.84  0.78   \n",
      "gear_ratio    -0.31  0.62   0.41     -0.38  -0.51   -0.76   -0.70 -0.68   \n",
      "\n",
      "              displacement  gear_ratio  \n",
      "price                 0.49       -0.31  \n",
      "mpg                  -0.71        0.62  \n",
      "rep78                -0.41        0.41  \n",
      "headroom              0.47       -0.38  \n",
      "trunk                 0.61       -0.51  \n",
      "weight                0.89       -0.76  \n",
      "length                0.84       -0.70  \n",
      "turn                  0.78       -0.68  \n",
      "displacement          1.00       -0.83  \n",
      "gear_ratio           -0.83        1.00  \n"
     ]
    }
   ],
   "source": [
    "corr = data.corr(method='pearson')  # pearson 相关系数矩阵\n",
    "print('相关系数矩阵为：\\n', np.round(corr, 2))  # 保留两位小数"
   ]
  },
  {
   "cell_type": "markdown",
   "metadata": {},
   "source": [
    "## 相关性热力图"
   ]
  },
  {
   "cell_type": "code",
   "execution_count": 38,
   "metadata": {},
   "outputs": [
    {
     "data": {
      "image/png": "[encoded data removed]",
      "text/plain": [
       "<Figure size 720x720 with 2 Axes>"
      ]
     },
     "metadata": {
      "needs_background": "light"
     },
     "output_type": "display_data"
    },
    {
     "data": {
      "text/plain": [
       "<function matplotlib.pyplot.close(fig=None)>"
      ]
     },
     "execution_count": 38,
     "metadata": {},
     "output_type": "execute_result"
    }
   ],
   "source": [
    "import matplotlib.pyplot as plt\n",
    "import seaborn as sns\n",
    "\n",
    "plt.rcParams['font.sans-serif'] = ['SimHei']  # 用来正常显示中文标签\n",
    "plt.rcParams['axes.unicode_minus'] = False  # 用来正常显示负号\n",
    "\n",
    "plt.subplots(figsize=(10, 10))  # 设置画面大小\n",
    "sns.heatmap(corr, annot=True, vmax=1, square=True, cmap=\"rainbow\")\n",
    "plt.title('相关性热力图')\n",
    "plt.show()\n",
    "plt.close"
   ]
  },
  {
   "cell_type": "markdown",
   "metadata": {},
   "source": [
    "# 绘制散点图"
   ]
  },
  {
   "cell_type": "code",
   "execution_count": 39,
   "metadata": {},
   "outputs": [
    {
     "data": {
      "image/png": "[encoded data removed]",
      "text/plain": [
       "<Figure size 756x360 with 3 Axes>"
      ]
     },
     "metadata": {
      "needs_background": "light"
     },
     "output_type": "display_data"
    },
    {
     "data": {
      "text/plain": [
       "<function matplotlib.pyplot.close(fig=None)>"
      ]
     },
     "execution_count": 39,
     "metadata": {},
     "output_type": "execute_result"
    }
   ],
   "source": [
    "sns.pairplot(data, x_vars=['weight', 'length', 'mpg'],\n",
    "             y_vars='price', kind=\"reg\", height=5, aspect=0.7)\n",
    "plt.show()\n",
    "plt.close"
   ]
  },
  {
   "cell_type": "markdown",
   "metadata": {},
   "source": [
    "# 回归模型"
   ]
  },
  {
   "cell_type": "code",
   "execution_count": 40,
   "metadata": {},
   "outputs": [
    {
     "name": "stdout",
     "output_type": "stream",
     "text": [
      "The linear model is: price = 1.4542e+04 + 4.3648*weight + -104.87*headroom + -86.789*length\n"
     ]
    }
   ],
   "source": [
    "from sklearn.linear_model import LinearRegression\n",
    "Xs = data[['weight', 'length', 'mpg']] \n",
    "y = data['price'].values.reshape(-1, 1)\n",
    "reg = LinearRegression()\n",
    "reg.fit(Xs, y)\n",
    "print(\"The linear model is: price = {:.5} + {:.5}*weight + {:.5}*headroom + {:.5}*length\".format(\n",
    "    reg.intercept_[0], reg.coef_[0][0], reg.coef_[0][1], reg.coef_[0][2]))"
   ]
  },
  {
   "cell_type": "markdown",
   "metadata": {},
   "source": [
    "# 模型评估"
   ]
  },
  {
   "cell_type": "code",
   "execution_count": 41,
   "metadata": {},
   "outputs": [
    {
     "name": "stdout",
     "output_type": "stream",
     "text": [
      "                            OLS Regression Results                            \n",
      "==============================================================================\n",
      "Dep. Variable:                  price   R-squared:                       0.357\n",
      "Model:                            OLS   Adj. R-squared:                  0.330\n",
      "Method:                 Least Squares   F-statistic:                     12.98\n",
      "Date:                Tue, 24 Mar 2020   Prob (F-statistic):           7.85e-07\n",
      "Time:                        18:24:28   Log-Likelihood:                -679.35\n",
      "No. Observations:                  74   AIC:                             1367.\n",
      "Df Residuals:                      70   BIC:                             1376.\n",
      "Df Model:                           3                                         \n",
      "Covariance Type:            nonrobust                                         \n",
      "==============================================================================\n",
      "                 coef    std err          t      P>|t|      [0.025      0.975]\n",
      "------------------------------------------------------------------------------\n",
      "const       1.454e+04   5890.632      2.469      0.016    2793.940    2.63e+04\n",
      "x1             4.3648      1.167      3.739      0.000       2.036       6.693\n",
      "x2          -104.8682     39.722     -2.640      0.010    -184.090     -25.646\n",
      "x3           -86.7893     83.943     -1.034      0.305    -254.209      80.630\n",
      "==============================================================================\n",
      "Omnibus:                        5.562   Durbin-Watson:                   1.277\n",
      "Prob(Omnibus):                  0.062   Jarque-Bera (JB):                5.497\n",
      "Skew:                           0.665   Prob(JB):                       0.0640\n",
      "Kurtosis:                       2.882   Cond. No.                     6.55e+04\n",
      "==============================================================================\n",
      "\n",
      "Warnings:\n",
      "[1] Standard Errors assume that the covariance matrix of the errors is correctly specified.\n",
      "[2] The condition number is large, 6.55e+04. This might indicate that there are\n",
      "strong multicollinearity or other numerical problems.\n"
     ]
    }
   ],
   "source": [
    "import statsmodels.api as sm\n",
    "\n",
    "Xs = np.column_stack((data['weight'], data['length'], data['mpg']))\n",
    "y = data['price']\n",
    "X2 = sm.add_constant(Xs)\n",
    "est = sm.OLS(y, X2)\n",
    "est2 = est.fit()\n",
    "print(est2.summary())"
   ]
  }
 ],
 "metadata": {
  "kernelspec": {
   "display_name": "Python 3",
   "language": "python",
   "name": "python3"
  },
  "language_info": {
   "codemirror_mode": {
    "name": "ipython",
    "version": 3
   },
   "file_extension": ".py",
   "mimetype": "text/x-python",
   "name": "python",
   "nbconvert_exporter": "python",
   "pygments_lexer": "ipython3",
   "version": "3.7.4"
  },
  "toc": {
   "base_numbering": 1,
   "nav_menu": {},
   "number_sections": true,
   "sideBar": true,
   "skip_h1_title": false,
   "title_cell": "Table of Contents",
   "title_sidebar": "Contents",
   "toc_cell": false,
   "toc_position": {},
   "toc_section_display": true,
   "toc_window_display": true
  }
 },
 "nbformat": 4,
 "nbformat_minor": 2
}
