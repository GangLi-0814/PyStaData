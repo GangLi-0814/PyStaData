{
 "cells": [
  {
   "cell_type": "markdown",
   "metadata": {},
   "source": [
    "# 提出问题\n",
    "\n",
    "- 生成 1-20 的列表 `a'\n",
    "- 挑出列表 `a` 中偶数，存为列表 `b`\n",
    "- 将列表 `b` 的所有元素平方，生成列表 `c` 。"
   ]
  },
  {
   "cell_type": "markdown",
   "metadata": {},
   "source": [
    "# 分析问题\n",
    "\n",
    "采用 `for` 循环，加条件判断，很轻松就可以实现。但是有没有更优雅和简洁的实现方式？使用列表推导式（List Comprehension）。先来对比看看两者的实现过程。"
   ]
  },
  {
   "cell_type": "markdown",
   "metadata": {},
   "source": [
    "# 实现过程"
   ]
  },
  {
   "cell_type": "markdown",
   "metadata": {},
   "source": [
    "## for 循环"
   ]
  },
  {
   "cell_type": "code",
   "execution_count": 60,
   "metadata": {},
   "outputs": [],
   "source": [
    "# 生成列表\n",
    "a = []\n",
    "for i in range(20):\n",
    "    a.append(i)"
   ]
  },
  {
   "cell_type": "code",
   "execution_count": 61,
   "metadata": {},
   "outputs": [],
   "source": [
    "# 条件判断\n",
    "b = []\n",
    "for i in a:\n",
    "    if i % 2 == 0:\n",
    "        b.append(i)"
   ]
  },
  {
   "cell_type": "code",
   "execution_count": 62,
   "metadata": {},
   "outputs": [],
   "source": [
    "# 计算\n",
    "c = []\n",
    "for i in b:\n",
    "    c.append(i**2)"
   ]
  },
  {
   "cell_type": "code",
   "execution_count": 63,
   "metadata": {},
   "outputs": [
    {
     "name": "stdout",
     "output_type": "stream",
     "text": [
      "[0, 1, 2, 3, 4, 5, 6, 7, 8, 9, 10, 11, 12, 13, 14, 15, 16, 17, 18, 19]\n",
      "[0, 2, 4, 6, 8, 10, 12, 14, 16, 18]\n",
      "[0, 4, 16, 36, 64, 100, 144, 196, 256, 324]\n"
     ]
    }
   ],
   "source": [
    "# 结果展示\n",
    "print(a)\n",
    "print(b)\n",
    "print(c)"
   ]
  },
  {
   "cell_type": "markdown",
   "metadata": {},
   "source": [
    "## 列表推导式"
   ]
  },
  {
   "cell_type": "code",
   "execution_count": 64,
   "metadata": {},
   "outputs": [],
   "source": [
    "a = [i for i in range(20)]\n",
    "b = [x for x in a if x % 2 == 0]\n",
    "c = [x**2 for x in b]"
   ]
  },
  {
   "cell_type": "code",
   "execution_count": 65,
   "metadata": {},
   "outputs": [
    {
     "name": "stdout",
     "output_type": "stream",
     "text": [
      "[0, 1, 2, 3, 4, 5, 6, 7, 8, 9, 10, 11, 12, 13, 14, 15, 16, 17, 18, 19]\n",
      "[0, 2, 4, 6, 8, 10, 12, 14, 16, 18]\n",
      "[0, 4, 16, 36, 64, 100, 144, 196, 256, 324]\n"
     ]
    }
   ],
   "source": [
    "# 结果展示\n",
    "print(a)\n",
    "print(b)\n",
    "print(c)"
   ]
  },
  {
   "cell_type": "markdown",
   "metadata": {},
   "source": [
    "# 二者比较"
   ]
  },
  {
   "cell_type": "markdown",
   "metadata": {},
   "source": [
    "## 语法\n",
    "\n",
    "对比两段实现代码，语法差异一目了然。用 `for` 和 `if` 语法如下：\n",
    "\n",
    "```Python\n",
    "for (set of values to iterate):\n",
    "    if (conditional filtering): \n",
    "        output_expression()\n",
    "```\n",
    "\n",
    "写作列表推导式如下：\n",
    "\n",
    "```Python\n",
    " [ output_expression() for(set of values to iterate) if(conditional filtering) ]\n",
    "\n",
    "```"
   ]
  },
  {
   "cell_type": "markdown",
   "metadata": {},
   "source": [
    "## 速度\n",
    "\n",
    "> Do you know List Comprehensions are 35% faster than FOR loop and 45% faster than map function? (AARSHAY JAIN, JANUARY 19, 2016)"
   ]
  },
  {
   "cell_type": "code",
   "execution_count": 71,
   "metadata": {},
   "outputs": [],
   "source": [
    "import timeit"
   ]
  },
  {
   "cell_type": "code",
   "execution_count": 81,
   "metadata": {},
   "outputs": [],
   "source": [
    "#  for 循环\n",
    "def gen_lst(n):\n",
    "    lst = []\n",
    "    for i in range(n):\n",
    "        lst.append(i)\n",
    "    return lst\n",
    "\n",
    "\n",
    "for_loop = timeit.timeit(stmt=\"gen_lst(1000)\",\n",
    "                         setup=\"from  __main__ import gen_lst\", number=100000)\n",
    "# stmt 需要测试的函数或语句，字符串形式\n",
    "# setup 运行的环境，本例子中表示 if __name__ == '__main__':\n",
    "# number 被测试的函数或语句，执行的次数，本例表示执行100000次 gen_lst()。省缺则默认是10000次\n",
    "# 综上：此函数表示在if __name__ == '__main__'的条件下，执行100000次gen_lst()消耗的时间"
   ]
  },
  {
   "cell_type": "code",
   "execution_count": 87,
   "metadata": {},
   "outputs": [],
   "source": [
    "# 列表推导式\n",
    "lst_comp = timeit.timeit(stmt=\"[x for x in range(1000)]\",\n",
    "                         setup=\"from  __main__ import gen_lst\", number=100000)  # 4.470719099999769"
   ]
  },
  {
   "cell_type": "code",
   "execution_count": 88,
   "metadata": {},
   "outputs": [
    {
     "name": "stdout",
     "output_type": "stream",
     "text": [
      "for循环耗时：8.11321820000012\n",
      " 列表推导式耗时：4.740454099999624 \n",
      "列表推导式比循环快：1.711485446088543 倍\n"
     ]
    }
   ],
   "source": [
    "print(\"for循环耗时：{}\\n列表推导式耗时：{} \\n列表推导式比循环快：{} 倍\".format(\n",
    "    for_loop, lst_comp, for_loop/lst_comp))"
   ]
  },
  {
   "cell_type": "markdown",
   "metadata": {},
   "source": [
    "为什么列表推导式比 `for` 循环更快呢？由字节码决定的。在 `for` 循环中先要加载 `append` 方法，然后再执行后续运算；而列表推导式则直接调用了 `LIST_APPEND` 命令来添加元素。就是这个区别使列表推导式比循环更快，在嵌套多层循环和判断的情况下对比更明显。"
   ]
  },
  {
   "cell_type": "markdown",
   "metadata": {},
   "source": [
    "## 实现 for + lambda "
   ]
  },
  {
   "cell_type": "code",
   "execution_count": 95,
   "metadata": {},
   "outputs": [
    {
     "name": "stdout",
     "output_type": "stream",
     "text": [
      "<map object at 0x00000204D28AEC08>\n"
     ]
    }
   ],
   "source": [
    "# 需求：将列表所有元素除以 10 \n",
    "lst = [100,1000,10000,100000]\n",
    "\n",
    "# for 循环\n",
    "new_lst = map(lambda x:x/10,lst)\n",
    "\n",
    "# 列表推导式\n",
    "new_lst = [x/10 for x in lst]\n",
    "\n"
   ]
  },
  {
   "cell_type": "markdown",
   "metadata": {},
   "source": [
    "# 列表推导式的应用"
   ]
  },
  {
   "cell_type": "markdown",
   "metadata": {},
   "source": [
    "## 拉平矩阵"
   ]
  },
  {
   "cell_type": "code",
   "execution_count": 66,
   "metadata": {},
   "outputs": [],
   "source": [
    "matrix = [\n",
    "    [1, 2, 3],\n",
    "    [4, 5, 6],\n",
    "    [7, 8, 9],\n",
    "]"
   ]
  },
  {
   "cell_type": "code",
   "execution_count": 67,
   "metadata": {},
   "outputs": [],
   "source": [
    "# for 循环\n",
    "flattened = []\n",
    "for row in matrix:\n",
    "    for i in row:\n",
    "        flattened.append(i)"
   ]
  },
  {
   "cell_type": "code",
   "execution_count": 68,
   "metadata": {
    "scrolled": true
   },
   "outputs": [
    {
     "data": {
      "text/plain": [
       "[1, 2, 3, 4, 5, 6, 7, 8, 9]"
      ]
     },
     "execution_count": 68,
     "metadata": {},
     "output_type": "execute_result"
    }
   ],
   "source": [
    "# 列表推导式\n",
    "flattened = [i for row in matrix for i in row]  # [1, 2, 3, 4, 5, 6, 7, 8, 9]"
   ]
  },
  {
   "cell_type": "markdown",
   "metadata": {},
   "source": [
    "## 矩阵转置"
   ]
  },
  {
   "cell_type": "code",
   "execution_count": 115,
   "metadata": {},
   "outputs": [
    {
     "data": {
      "text/plain": [
       "array([[1, 4, 7],\n",
       "       [2, 5, 8],\n",
       "       [3, 6, 9]])"
      ]
     },
     "execution_count": 115,
     "metadata": {},
     "output_type": "execute_result"
    }
   ],
   "source": [
    "matrix = [\n",
    "    [1, 2, 3],\n",
    "    [4, 5, 6],\n",
    "    [7, 8, 9],\n",
    "]\n",
    "\n",
    "# for 循环\n",
    "transposed = []\n",
    "for i in range(3):\n",
    "    trans_row = []\n",
    "    for row in matrix:\n",
    "        trans_row.append(row[i])\n",
    "    transposed.append(trans_row)\n",
    "            \n",
    "\n",
    "# 列表推导式\n",
    "transposed = [[row[i] for row in matrix] for i in range(3)]\n",
    "\n",
    "# NumPy \n",
    "import numpy as np\n",
    "arr = np.array(matrix)\n",
    "arr.T"
   ]
  },
  {
   "cell_type": "markdown",
   "metadata": {},
   "source": [
    "# 小结"
   ]
  },
  {
   "cell_type": "markdown",
   "metadata": {},
   "source": [
    "上面只是简单的几个例子，更多的应用可以阅读 [Tutorial – Python List Comprehension With Examples](https://www.analyticsvidhya.com/blog/2016/01/python-tutorial-list-comprehension-examples/) 。\n",
    "\n",
    "总体来看：列表推导式更加优雅和简洁，而且速度更快。但是列表推导式写起来爽，读起来并不爽。代码的可读性没有用用循环看起来清晰。所以在使用列表推导式的时，可读性也需要考虑。在《流畅的Python》中，作者建议谨慎使用列表推导式，最好只用于列表生成。"
   ]
  },
  {
   "cell_type": "code",
   "execution_count": null,
   "metadata": {},
   "outputs": [],
   "source": []
  },
  {
   "cell_type": "code",
   "execution_count": null,
   "metadata": {},
   "outputs": [],
   "source": []
  },
  {
   "cell_type": "code",
   "execution_count": null,
   "metadata": {},
   "outputs": [],
   "source": []
  }
 ],
 "metadata": {
  "kernelspec": {
   "display_name": "Python 3",
   "language": "python",
   "name": "python3"
  },
  "language_info": {
   "codemirror_mode": {
    "name": "ipython",
    "version": 3
   },
   "file_extension": ".py",
   "mimetype": "text/x-python",
   "name": "python",
   "nbconvert_exporter": "python",
   "pygments_lexer": "ipython3",
   "version": "3.7.4"
  },
  "toc": {
   "base_numbering": 1,
   "nav_menu": {},
   "number_sections": true,
   "sideBar": true,
   "skip_h1_title": false,
   "title_cell": "Table of Contents",
   "title_sidebar": "Contents",
   "toc_cell": false,
   "toc_position": {},
   "toc_section_display": true,
   "toc_window_display": false
  }
 },
 "nbformat": 4,
 "nbformat_minor": 2
}
