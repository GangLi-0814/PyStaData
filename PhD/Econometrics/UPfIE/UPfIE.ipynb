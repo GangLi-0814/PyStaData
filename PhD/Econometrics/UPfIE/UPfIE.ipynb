{
 "cells": [
  {
   "cell_type": "markdown",
   "metadata": {},
   "source": [
    "[Using Python for Introductory Econometrics](http://www.upfie.net/index.html)\n",
    "\n"
   ]
  },
  {
   "cell_type": "markdown",
   "metadata": {},
   "source": [
    "# 1. 导论"
   ]
  },
  {
   "cell_type": "markdown",
   "metadata": {},
   "source": [
    "## 1.1 准备工作\n",
    "\n",
    "- Python 安装\n",
    "- 导入模块\n",
    "- 路径和文件操作\n",
    "- 报错和提示"
   ]
  },
  {
   "cell_type": "markdown",
   "metadata": {},
   "source": [
    "### 1.1.2 安装第三方库\n",
    "\n",
    "- `wooldridge`: 伍德里奇《计量经济学导论》（第六版）数据集\n",
    "- `numpy`: 数列运算\n",
    "- `pandas`: 数据分析、时间序列和统计分析\n",
    "- `pandas_datareader`:可以直接一些金融数据网站上直接获取数据\n",
    "- `statsmodels`: 统计计算和模型\n",
    "- `matplotlib`: 绘图\n",
    "- `scipy`: 科学计算\n",
    "- `patsy`：描述统计模型和构建设计矩阵\n",
    "- `linearmodels`：工具变量和线性面板模型"
   ]
  },
  {
   "cell_type": "code",
   "execution_count": 28,
   "metadata": {
    "collapsed": true
   },
   "outputs": [
    {
     "name": "stdout",
     "output_type": "stream",
     "text": [
      "Requirement already satisfied: wooldridge in /Users/gangli/opt/anaconda3/lib/python3.8/site-packages (0.4.2)\n",
      "Requirement already satisfied: pandas in /Users/gangli/opt/anaconda3/lib/python3.8/site-packages (from wooldridge) (1.1.3)\n",
      "Requirement already satisfied: pytz>=2017.2 in /Users/gangli/opt/anaconda3/lib/python3.8/site-packages (from pandas->wooldridge) (2020.1)\n",
      "Requirement already satisfied: numpy>=1.15.4 in /Users/gangli/opt/anaconda3/lib/python3.8/site-packages (from pandas->wooldridge) (1.19.2)\n",
      "Requirement already satisfied: python-dateutil>=2.7.3 in /Users/gangli/opt/anaconda3/lib/python3.8/site-packages (from pandas->wooldridge) (2.8.1)\n",
      "Requirement already satisfied: six>=1.5 in /Users/gangli/opt/anaconda3/lib/python3.8/site-packages (from python-dateutil>=2.7.3->pandas->wooldridge) (1.15.0)\n",
      "Requirement already satisfied: numpy in /Users/gangli/opt/anaconda3/lib/python3.8/site-packages (1.19.2)\n",
      "Requirement already satisfied: pandas in /Users/gangli/opt/anaconda3/lib/python3.8/site-packages (1.1.3)\n",
      "Requirement already satisfied: python-dateutil>=2.7.3 in /Users/gangli/opt/anaconda3/lib/python3.8/site-packages (from pandas) (2.8.1)\n",
      "Requirement already satisfied: pytz>=2017.2 in /Users/gangli/opt/anaconda3/lib/python3.8/site-packages (from pandas) (2020.1)\n",
      "Requirement already satisfied: numpy>=1.15.4 in /Users/gangli/opt/anaconda3/lib/python3.8/site-packages (from pandas) (1.19.2)\n",
      "Requirement already satisfied: six>=1.5 in /Users/gangli/opt/anaconda3/lib/python3.8/site-packages (from python-dateutil>=2.7.3->pandas) (1.15.0)\n",
      "\u001b[31mERROR: Could not find a version that satisfies the requirement pandas_datareder (from versions: none)\u001b[0m\n",
      "\u001b[31mERROR: No matching distribution found for pandas_datareder\u001b[0m\n",
      "Requirement already satisfied: statsmodels in /Users/gangli/opt/anaconda3/lib/python3.8/site-packages (0.12.0)\n",
      "Requirement already satisfied: pandas>=0.21 in /Users/gangli/opt/anaconda3/lib/python3.8/site-packages (from statsmodels) (1.1.3)\n",
      "Requirement already satisfied: numpy>=1.15 in /Users/gangli/opt/anaconda3/lib/python3.8/site-packages (from statsmodels) (1.19.2)\n",
      "Requirement already satisfied: patsy>=0.5 in /Users/gangli/opt/anaconda3/lib/python3.8/site-packages (from statsmodels) (0.5.1)\n",
      "Requirement already satisfied: scipy>=1.1 in /Users/gangli/opt/anaconda3/lib/python3.8/site-packages (from statsmodels) (1.5.2)\n",
      "Requirement already satisfied: python-dateutil>=2.7.3 in /Users/gangli/opt/anaconda3/lib/python3.8/site-packages (from pandas>=0.21->statsmodels) (2.8.1)\n",
      "Requirement already satisfied: pytz>=2017.2 in /Users/gangli/opt/anaconda3/lib/python3.8/site-packages (from pandas>=0.21->statsmodels) (2020.1)\n",
      "Requirement already satisfied: six in /Users/gangli/opt/anaconda3/lib/python3.8/site-packages (from patsy>=0.5->statsmodels) (1.15.0)\n",
      "Requirement already satisfied: scipy in /Users/gangli/opt/anaconda3/lib/python3.8/site-packages (1.5.2)\n",
      "Requirement already satisfied: numpy>=1.14.5 in /Users/gangli/opt/anaconda3/lib/python3.8/site-packages (from scipy) (1.19.2)\n",
      "Requirement already satisfied: patsy in /Users/gangli/opt/anaconda3/lib/python3.8/site-packages (0.5.1)\n",
      "Requirement already satisfied: six in /Users/gangli/opt/anaconda3/lib/python3.8/site-packages (from patsy) (1.15.0)\n",
      "Requirement already satisfied: numpy>=1.4 in /Users/gangli/opt/anaconda3/lib/python3.8/site-packages (from patsy) (1.19.2)\n",
      "Requirement already satisfied: linearmodels in /Users/gangli/opt/anaconda3/lib/python3.8/site-packages (4.17)\n",
      "Requirement already satisfied: patsy in /Users/gangli/opt/anaconda3/lib/python3.8/site-packages (from linearmodels) (0.5.1)\n",
      "Requirement already satisfied: statsmodels>=0.9 in /Users/gangli/opt/anaconda3/lib/python3.8/site-packages (from linearmodels) (0.12.0)\n",
      "Requirement already satisfied: Cython>=0.29.14 in /Users/gangli/opt/anaconda3/lib/python3.8/site-packages (from linearmodels) (0.29.21)\n",
      "Requirement already satisfied: numpy>=1.15 in /Users/gangli/opt/anaconda3/lib/python3.8/site-packages (from linearmodels) (1.19.2)\n",
      "Requirement already satisfied: property-cached>=1.6.3 in /Users/gangli/opt/anaconda3/lib/python3.8/site-packages (from linearmodels) (1.6.4)\n",
      "Requirement already satisfied: scipy>=1 in /Users/gangli/opt/anaconda3/lib/python3.8/site-packages (from linearmodels) (1.5.2)\n",
      "Requirement already satisfied: mypy-extensions>=0.4 in /Users/gangli/opt/anaconda3/lib/python3.8/site-packages (from linearmodels) (0.4.3)\n",
      "Requirement already satisfied: pandas>=0.23 in /Users/gangli/opt/anaconda3/lib/python3.8/site-packages (from linearmodels) (1.1.3)\n",
      "Requirement already satisfied: six in /Users/gangli/opt/anaconda3/lib/python3.8/site-packages (from patsy->linearmodels) (1.15.0)\n",
      "Requirement already satisfied: python-dateutil>=2.7.3 in /Users/gangli/opt/anaconda3/lib/python3.8/site-packages (from pandas>=0.23->linearmodels) (2.8.1)\n",
      "Requirement already satisfied: pytz>=2017.2 in /Users/gangli/opt/anaconda3/lib/python3.8/site-packages (from pandas>=0.23->linearmodels) (2020.1)\n"
     ]
    }
   ],
   "source": [
    "!pip install wooldridge\n",
    "!pip install numpy\n",
    "!pip install pandas\n",
    "!pip install pandas_datareader\n",
    "!pip install statsmodels\n",
    "!pip install matplotlib\n",
    "!pip install scipy\n",
    "!pip install patsy\n",
    "!pip install linearmodels"
   ]
  },
  {
   "cell_type": "markdown",
   "metadata": {},
   "source": [
    "## 1.2 Python 基础\n",
    "\n",
    "\n",
    "- 变量\n",
    "- Python 中的对象\n",
    "- `numpy` 中的对象\n",
    "- `pandas` 中的对象"
   ]
  },
  {
   "cell_type": "markdown",
   "metadata": {},
   "source": [
    "## 1.3 外部数据\n",
    "\n",
    "- 示例中的数据集\n",
    "- 数据的导入于导出\n",
    "- 数据的其他来源"
   ]
  },
  {
   "cell_type": "code",
   "execution_count": 30,
   "metadata": {},
   "outputs": [
    {
     "name": "stdout",
     "output_type": "stream",
     "text": [
      "F_data.head(): \n",
      "Attributes  Adj Close  Close   High    Low   Open      Volume\n",
      "Symbols             F      F      F      F      F           F\n",
      "Date                                                         \n",
      "2013-12-31  10.938020  15.43  15.43  15.26  15.29  27829000.0\n",
      "2014-01-02  10.945109  15.44  15.45  15.28  15.42  31528500.0\n",
      "2014-01-03  10.994732  15.51  15.64  15.30  15.52  46122300.0\n",
      "2014-01-06  11.044353  15.58  15.76  15.52  15.72  42657600.0\n",
      "2014-01-07  10.902575  15.38  15.74  15.35  15.73  54476300.0\n",
      "\n",
      "F_data.tail(): \n",
      "Attributes  Adj Close  Close   High    Low   Open      Volume\n",
      "Symbols             F      F      F      F      F           F\n",
      "Date                                                         \n",
      "2015-12-24  10.897047  14.31  14.37  14.25  14.35   9000100.0\n",
      "2015-12-28  10.798053  14.18  14.34  14.16  14.28  13697500.0\n",
      "2015-12-29  10.836125  14.23  14.30  14.15  14.28  18867800.0\n",
      "2015-12-30  10.790435  14.17  14.26  14.12  14.23  13800300.0\n",
      "2015-12-31  10.729517  14.09  14.16  14.04  14.14  19881000.0\n",
      "\n"
     ]
    }
   ],
   "source": [
    "# Script 1.16: Import-StockData\n",
    "import pandas_datareader as pdr\n",
    "\n",
    "tickers = ['F']\n",
    "start_date = '2014-01-01'\n",
    "end_date = '2015-12-31'\n",
    "\n",
    "F_data = pdr.data.DataReader(tickers, 'yahoo', start_date, end_date)\n",
    "\n",
    "print(f'F_data.head(): \\n{F_data.head()}\\n')\n",
    "print(f'F_data.tail(): \\n{F_data.tail()}\\n')"
   ]
  },
  {
   "cell_type": "markdown",
   "metadata": {},
   "source": [
    "## 1.4 `matplotlib` 绘图\n",
    "\n",
    "- 基础图表\n",
    "- 使用选项自定义图表\n",
    "- 多图重叠\n",
    "- 图表导出"
   ]
  },
  {
   "cell_type": "code",
   "execution_count": 31,
   "metadata": {},
   "outputs": [],
   "source": [
    "# Script 1.17: Graphs-Basics\n",
    "\n",
    "import matplotlib.pyplot as plt\n",
    "\n",
    "# crear data\n",
    "x = [1, 3, 4, 7, 8, 9]\n",
    "y = [0, 3, 6, 9, 7, 8]\n",
    "\n",
    "# plot and save\n",
    "plt.plot(x, y, color='black')\n",
    "plt.savefig('PyGraphs/Graphs-Basics-a.pdf')\n",
    "plt.close()"
   ]
  },
  {
   "cell_type": "markdown",
   "metadata": {},
   "source": [
    "## 1.5 描述性统计\n",
    "\n",
    "- 离散分布：频数和列联表\n",
    "- 连续分布：直方图和密度图\n",
    "- 经验分布函数（ECDF）\n",
    "- 统计学基础"
   ]
  },
  {
   "cell_type": "code",
   "execution_count": 32,
   "metadata": {
    "scrolled": true
   },
   "outputs": [
    {
     "name": "stdout",
     "output_type": "stream",
     "text": [
      "unique_elem_np: \n",
      "['average' 'happy' 'unhappy' 'very happy' 'very unhappy']\n",
      "\n",
      "counts_np: \n",
      "[ 93 194  66 232  16]\n",
      "\n",
      "ft_pd: \n",
      "very happy      232\n",
      "happy           194\n",
      "average          93\n",
      "unhappy          66\n",
      "very unhappy     16\n",
      "Name: marriage, dtype: int64\n",
      "\n",
      "ft_pd2: \n",
      "haskids  marriage    \n",
      "no       very happy       96\n",
      "         happy            40\n",
      "         average          24\n",
      "         unhappy           8\n",
      "         very unhappy      3\n",
      "yes      happy           154\n",
      "         very happy      136\n",
      "         average          69\n",
      "         unhappy          58\n",
      "         very unhappy     13\n",
      "Name: marriage, dtype: int64\n",
      "\n",
      "ct_all_abs: \n",
      "haskids        no  yes  All\n",
      "marriage                   \n",
      "very unhappy    3   13   16\n",
      "unhappy         8   58   66\n",
      "average        24   69   93\n",
      "happy          40  154  194\n",
      "very happy     96  136  232\n",
      "All           171  430  601\n",
      "\n",
      "ct_all_rel: \n",
      "haskids             no       yes\n",
      "marriage                        \n",
      "very unhappy  0.004992  0.021631\n",
      "unhappy       0.013311  0.096506\n",
      "average       0.039933  0.114809\n",
      "happy         0.066556  0.256240\n",
      "very happy    0.159734  0.226290\n",
      "\n",
      "ct_row: \n",
      "haskids             no       yes\n",
      "marriage                        \n",
      "very unhappy  0.187500  0.812500\n",
      "unhappy       0.121212  0.878788\n",
      "average       0.258065  0.741935\n",
      "happy         0.206186  0.793814\n",
      "very happy    0.413793  0.586207\n",
      "\n",
      "ct_col: \n",
      "haskids             no       yes\n",
      "marriage                        \n",
      "very unhappy  0.017544  0.030233\n",
      "unhappy       0.046784  0.134884\n",
      "average       0.140351  0.160465\n",
      "happy         0.233918  0.358140\n",
      "very happy    0.561404  0.316279\n",
      "\n"
     ]
    }
   ],
   "source": [
    "# Script 1.22: Descr-Tables\n",
    "import wooldridge as woo\n",
    "import numpy as np\n",
    "import pandas as pd\n",
    "\n",
    "affairs = woo.dataWoo('affairs')\n",
    "\n",
    "# adjust codings to [0-4] (Categoricals require a start from 0):\n",
    "affairs['ratemarr'] = affairs['ratemarr'] - 1\n",
    "\n",
    "# use a pandas.Categorical object to attach labels for \"haskids\":\n",
    "affairs['haskids'] = pd.Categorical.from_codes(affairs['kids'],\n",
    "                                               categories=['no', 'yes'])\n",
    "# ... and \"marriage\" (for example: 0 = 'very unhappy', 1 = 'unhappy',...):\n",
    "mlab = ['very unhappy', 'unhappy', 'average', 'happy', 'very happy']\n",
    "affairs['marriage'] = pd.Categorical.from_codes(affairs['ratemarr'],\n",
    "                                                categories=mlab)\n",
    "\n",
    "# frequency table in numpy (alphabetical order of elements):\n",
    "ft_np = np.unique(affairs['marriage'], return_counts=True)\n",
    "unique_elem_np = ft_np[0]\n",
    "counts_np = ft_np[1]\n",
    "print(f'unique_elem_np: \\n{unique_elem_np}\\n')\n",
    "print(f'counts_np: \\n{counts_np}\\n')\n",
    "\n",
    "# frequency table in pandas:\n",
    "ft_pd = affairs['marriage'].value_counts()\n",
    "print(f'ft_pd: \\n{ft_pd}\\n')\n",
    "\n",
    "# frequency table with groupby:\n",
    "ft_pd2 = affairs['marriage'].groupby(affairs['haskids']).value_counts()\n",
    "print(f'ft_pd2: \\n{ft_pd2}\\n')\n",
    "\n",
    "# contingency table in pandas:\n",
    "ct_all_abs = pd.crosstab(affairs['marriage'], affairs['haskids'], margins=3)\n",
    "print(f'ct_all_abs: \\n{ct_all_abs}\\n')\n",
    "ct_all_rel = pd.crosstab(affairs['marriage'], affairs['haskids'], normalize='all')\n",
    "print(f'ct_all_rel: \\n{ct_all_rel}\\n')\n",
    "\n",
    "# share within \"marriage\" (i.e. within a row):\n",
    "ct_row = pd.crosstab(affairs['marriage'], affairs['haskids'], normalize='index')\n",
    "print(f'ct_row: \\n{ct_row}\\n')\n",
    "\n",
    "# share within \"haskids\"  (i.e. within a column):\n",
    "ct_col = pd.crosstab(affairs['marriage'], affairs['haskids'], normalize='columns')\n",
    "print(f'ct_col: \\n{ct_col}\\n')\n"
   ]
  },
  {
   "cell_type": "code",
   "execution_count": 33,
   "metadata": {},
   "outputs": [
    {
     "data": {
      "image/png": "[encoded data removed]",
      "text/plain": [
       "<Figure size 432x288 with 1 Axes>"
      ]
     },
     "metadata": {
      "needs_background": "light"
     },
     "output_type": "display_data"
    }
   ],
   "source": [
    "# Script 1.23: Descr-Figures\n",
    "import wooldridge as woo\n",
    "import numpy as np\n",
    "import pandas as pd\n",
    "import matplotlib.pyplot as plt\n",
    "\n",
    "affairs = woo.dataWoo('affairs')\n",
    "\n",
    "# attach labels (see previous script):\n",
    "affairs['ratemarr'] = affairs['ratemarr'] - 1\n",
    "affairs['haskids'] = pd.Categorical.from_codes(affairs['kids'],\n",
    "                                               categories=['no', 'yes'])\n",
    "mlab = ['very unhappy', 'unhappy', 'average', 'happy', 'very happy']\n",
    "affairs['marriage'] = pd.Categorical.from_codes(affairs['ratemarr'],\n",
    "                                                categories=mlab)\n",
    "\n",
    "# counts for all graphs:\n",
    "counts = affairs['marriage'].value_counts()\n",
    "counts_bykids = affairs['marriage'].groupby(affairs['haskids']).value_counts()\n",
    "counts_yes = counts_bykids['yes']\n",
    "counts_no = counts_bykids['no']\n",
    "\n",
    "# pie chart (a):\n",
    "grey_colors = ['0.3', '0.4', '0.5', '0.6', '0.7']\n",
    "plt.pie(counts, labels=mlab, colors=grey_colors)\n",
    "plt.savefig('PyGraphs/Descr-Pie.pdf')\n",
    "plt.close()\n",
    "\n",
    "# horizontal bar chart (b):\n",
    "y_pos = [0, 1, 2, 3, 4]  # the y locations for the bars\n",
    "plt.barh(y_pos, counts, color='0.6')\n",
    "plt.yticks(y_pos, mlab, rotation=60)  # add and adjust labeling\n",
    "plt.savefig('PyGraphs/Descr-Bar1.pdf')\n",
    "plt.close()\n",
    "\n",
    "# stacked bar plot (c):\n",
    "x_pos = [0, 1, 2, 3, 4]  # the x locations for the bars\n",
    "plt.bar(x_pos, counts_yes, width=0.4, color='0.6', label='Yes')\n",
    "# with 'bottom=counts_yes' bars are added on top of previous ones:\n",
    "plt.bar(x_pos, counts_no, width=0.4, bottom=counts_yes, color='0.3', label='No')\n",
    "plt.ylabel('Counts')\n",
    "plt.xticks(x_pos, mlab)  # add labels on x axis\n",
    "plt.legend()\n",
    "plt.savefig('PyGraphs/Descr-Bar2.pdf')\n",
    "plt.close()\n",
    "\n",
    "# grouped bar plot (d)\n",
    "# add left bars first and move bars to the left:\n",
    "x_pos_leftbar = [-0.2, 0.8, 1.8, 2.8, 3.8]\n",
    "plt.bar(x_pos_leftbar, counts_yes, width=0.4, color='0.6', label='Yes')\n",
    "# add right bars first and move bars to the right:\n",
    "x_pos_rightbar = [0.2, 1.2, 2.2, 3.2, 4.2]\n",
    "plt.bar(x_pos_rightbar, counts_no, width=0.4, color='0.3', label='No')\n",
    "plt.ylabel('Counts')\n",
    "plt.xticks(x_pos, mlab)\n",
    "plt.legend()\n",
    "plt.savefig('PyGraphs/Descr-Bar3.pdf')"
   ]
  },
  {
   "cell_type": "markdown",
   "metadata": {},
   "source": [
    "## 1.6 概率分布\n",
    "\n",
    "- 离散型分布\n",
    "- 连续型分布\n",
    "- 累积分布函数（CDF）\n",
    "- 从概率分布函数中抽取随机数\n"
   ]
  },
  {
   "cell_type": "code",
   "execution_count": null,
   "metadata": {},
   "outputs": [],
   "source": [
    "## 1.7 置信区间和统计推断\n",
    "- 置信区间\n",
    "- t 检验\n",
    "- p 值"
   ]
  },
  {
   "cell_type": "markdown",
   "metadata": {},
   "source": [
    "## 1.8 Python 进阶\n",
    "- 条件语句\n",
    "- 循环\n",
    "- 函数\n",
    "- 面向对象"
   ]
  },
  {
   "cell_type": "markdown",
   "metadata": {},
   "source": [
    "## 1.9 蒙特卡洛模拟\n",
    "- 估计量的有限样本性质\n",
    "- 估计量的渐近性质\n",
    "- 置信区间和 t 检验的模拟"
   ]
  },
  {
   "cell_type": "markdown",
   "metadata": {},
   "source": [
    "# 2. 横截面数据分析"
   ]
  },
  {
   "cell_type": "markdown",
   "metadata": {},
   "source": [
    "## 2.1 简单线性回归模型"
   ]
  },
  {
   "cell_type": "markdown",
   "metadata": {},
   "source": [
    "### 2.1.1 简单 OLS 回归"
   ]
  },
  {
   "cell_type": "markdown",
   "metadata": {},
   "source": [
    "考虑简单线性回归模型：\n",
    "$$\n",
    "y = \\beta_0 + \\beta_1 x + u\n",
    "$$\n",
    "\n",
    " OLS 估计量有：\n",
    "$$\n",
    "\\hat \\beta_0 = \\bar y - \\hat \\beta_1 \\bar x \\\\\n",
    "\\hat \\beta_1 = \\frac{Cov(x,y)}{Var(x)} = \\frac{\\sum_{i=1}^n (x_i - \\bar x)(y_i - \\bar y)}{\\sum_{i=1}^n (x_i - \\bar x)^2}\n",
    "$$"
   ]
  },
  {
   "cell_type": "code",
   "execution_count": 35,
   "metadata": {},
   "outputs": [
    {
     "name": "stdout",
     "output_type": "stream",
     "text": [
      "b1: 18.50118634521492\n",
      "\n",
      "b0: 963.191336472558\n",
      "\n"
     ]
    }
   ],
   "source": [
    "# Script 2.1: Example-2-3\n",
    "import wooldridge as woo\n",
    "import numpy as np\n",
    "\n",
    "ceosal1 = woo.dataWoo('ceosal1')\n",
    "x = ceosal1['roe']\n",
    "y = ceosal1['salary']\n",
    "\n",
    "# ingredients to the OLS formulas:\n",
    "cov_xy = np.cov(x, y)[1, 0]  # access 2. row and 1. column of covariance matrix\n",
    "var_x = np.var(x, ddof=1)\n",
    "x_bar = np.mean(x)\n",
    "y_bar = np.mean(y)\n",
    "\n",
    "# manual calculation of OLS coefficients:\n",
    "b1 = cov_xy / var_x\n",
    "b0 = y_bar - b1 * x_bar\n",
    "print(f'b1: {b1}\\n')\n",
    "print(f'b0: {b0}\\n')\n"
   ]
  },
  {
   "cell_type": "code",
   "execution_count": 36,
   "metadata": {},
   "outputs": [
    {
     "name": "stdout",
     "output_type": "stream",
     "text": [
      "b: \n",
      "Intercept    963.191336\n",
      "roe           18.501186\n",
      "dtype: float64\n",
      "\n"
     ]
    }
   ],
   "source": [
    "# Example-2-3-2\n",
    "import wooldridge as woo\n",
    "import statsmodels.formula.api as smf\n",
    "import matplotlib.pyplot as plt\n",
    "\n",
    "ceosal1 = woo.dataWoo('ceosal1')\n",
    "\n",
    "# OLS regression:\n",
    "reg = smf.ols(formula='salary ~ roe', data=ceosal1)\n",
    "results = reg.fit()\n",
    "b = results.params\n",
    "print(f'b: \\n{b}\\n')"
   ]
  },
  {
   "cell_type": "code",
   "execution_count": 37,
   "metadata": {},
   "outputs": [
    {
     "data": {
      "image/png": "[encoded data removed]",
      "text/plain": [
       "<Figure size 432x288 with 1 Axes>"
      ]
     },
     "metadata": {
      "needs_background": "light"
     },
     "output_type": "display_data"
    }
   ],
   "source": [
    "# Example-2-3-3\n",
    "import wooldridge as woo\n",
    "import statsmodels.formula.api as smf\n",
    "import matplotlib.pyplot as plt\n",
    "\n",
    "ceosal1 = woo.dataWoo('ceosal1')\n",
    "\n",
    "# OLS regression:\n",
    "reg = smf.ols(formula='salary ~ roe', data=ceosal1)\n",
    "results = reg.fit()\n",
    "\n",
    "# scatter plot and fitted values:\n",
    "plt.plot('roe', 'salary', data=ceosal1, color='grey', marker='o', linestyle='')\n",
    "plt.plot(ceosal1['roe'], results.fittedvalues, color='black', linestyle='-')\n",
    "plt.ylabel('salary')\n",
    "plt.xlabel('roe')\n",
    "plt.savefig('PyGraphs/Example-2-3-3.pdf')"
   ]
  },
  {
   "cell_type": "markdown",
   "metadata": {},
   "source": [
    "### 2.1.2 系数、估计值和残差"
   ]
  },
  {
   "cell_type": "code",
   "execution_count": 38,
   "metadata": {},
   "outputs": [
    {
     "name": "stdout",
     "output_type": "stream",
     "text": [
      "table.head(15): \n",
      "          roe  salary   salary_hat       u_hat\n",
      "0   14.100000    1095  1224.058071 -129.058071\n",
      "1   10.900000    1001  1164.854261 -163.854261\n",
      "2   23.500000    1122  1397.969216 -275.969216\n",
      "3    5.900000     578  1072.348338 -494.348338\n",
      "4   13.800000    1368  1218.507712  149.492288\n",
      "5   20.000000    1145  1333.215063 -188.215063\n",
      "6   16.400000    1078  1266.610785 -188.610785\n",
      "7   16.299999    1094  1264.760660 -170.760660\n",
      "8   10.500000    1237  1157.453793   79.546207\n",
      "9   26.299999     833  1449.772523 -616.772523\n",
      "10  25.900000     567  1442.372056 -875.372056\n",
      "11  26.799999     933  1459.023116 -526.023116\n",
      "12  14.800000    1339  1237.008898  101.991102\n",
      "13  22.299999     937  1375.767778 -438.767778\n",
      "14  56.299999    2011  2004.808114    6.191886\n",
      "\n"
     ]
    }
   ],
   "source": [
    "# Example 2.6: Example 2-6\n",
    "import wooldridge as woo\n",
    "import pandas as pd\n",
    "import statsmodels.formula.api as smf\n",
    "\n",
    "ceosal1 = woo.dataWoo('ceosal1')\n",
    "\n",
    "# OLS regression:\n",
    "reg = smf.ols(formula='salary ~ roe', data=ceosal1)\n",
    "results = reg.fit()\n",
    "\n",
    "# obtain predicted values and residuals:\n",
    "salary_hat = results.fittedvalues\n",
    "u_hat = results.resid\n",
    "\n",
    "# Wooldridge, Table 2.2:\n",
    "table = pd.DataFrame({'roe': ceosal1['roe'],\n",
    "                      'salary': ceosal1['salary'],\n",
    "                      'salary_hat': salary_hat,\n",
    "                      'u_hat': u_hat})\n",
    "print(f'table.head(15): \\n{table.head(15)}\\n')"
   ]
  },
  {
   "cell_type": "markdown",
   "metadata": {},
   "source": [
    "### 2.1.3 拟合系数\n",
    "\n",
    "总平方和（total sum of squares, SST）、解释平方和（explained sum of squares, SSE） 和残差平方和（residual sum of squares，SSR）的公式如下：\n",
    "\n",
    "$$\n",
    "SST = \\sum_{i=1}^n (y_i - \\bar y)^2 = (n-1) \\cdot Var(y) \\\\\n",
    "SSE = \\sum_{i=1}^n (\\hat y_i - \\bar y)^2 = (n-1) \\cdot Var(\\hat y) \\\\\n",
    "SSR = \\sum_{i=1}^n (\\hat u_i - 0)^2 = (n-1) \\cdot Var(\\hat u)\n",
    "$$\n",
    "\n",
    "其中，$Var(x)$ 表示样本方差 $\\frac{1}{n-1} \\sum_{i=1}^n (x_i - \\bar x)^2$ 。\n",
    "\n",
    "由此，得拟合系数 $R^2$ 的计算公式：\n",
    "$$\n",
    "R^2 = \\frac{SSE}{SST} = \\frac{Var(\\hat y)}{Var (y)} = 1 - \\frac{Var(\\hat u)}{Var(y)}\n",
    "$$"
   ]
  },
  {
   "cell_type": "code",
   "execution_count": 39,
   "metadata": {},
   "outputs": [
    {
     "name": "stdout",
     "output_type": "stream",
     "text": [
      "R2_a: 0.013188624081034125\n",
      "\n",
      "R2_b: 0.01318862408103394\n",
      "\n",
      "R2_c: 0.013188624081034099\n",
      "\n"
     ]
    }
   ],
   "source": [
    "# Example-2-8\n",
    "import wooldridge as woo\n",
    "import numpy as np\n",
    "import statsmodels.formula.api as smf\n",
    "\n",
    "ceosal1 = woo.dataWoo('ceosal1')\n",
    "\n",
    "# OLS regression:\n",
    "reg = smf.ols(formula='salary ~ roe', data=ceosal1)\n",
    "results = reg.fit()\n",
    "\n",
    "# calculate predicted values & residuals:\n",
    "sal_hat = results.fittedvalues\n",
    "u_hat = results.resid\n",
    "\n",
    "# calculate R^2 in three different ways:\n",
    "sal = ceosal1['salary']\n",
    "R2_a = np.var(sal_hat, ddof=1) / np.var(sal, ddof=1)\n",
    "R2_b = 1 - np.var(u_hat, ddof=1) / np.var(sal, ddof=1)\n",
    "R2_c = np.corrcoef(sal, sal_hat)[1, 0] ** 2\n",
    "\n",
    "print(f'R2_a: {R2_a}\\n')\n",
    "print(f'R2_b: {R2_b}\\n')\n",
    "print(f'R2_c: {R2_c}\\n')"
   ]
  },
  {
   "cell_type": "code",
   "execution_count": 40,
   "metadata": {},
   "outputs": [
    {
     "name": "stdout",
     "output_type": "stream",
     "text": [
      "results.summary(): \n",
      "                            OLS Regression Results                            \n",
      "==============================================================================\n",
      "Dep. Variable:                  voteA   R-squared:                       0.856\n",
      "Model:                            OLS   Adj. R-squared:                  0.855\n",
      "Method:                 Least Squares   F-statistic:                     1018.\n",
      "Date:                Sat, 20 Feb 2021   Prob (F-statistic):           6.63e-74\n",
      "Time:                        13:35:42   Log-Likelihood:                -565.20\n",
      "No. Observations:                 173   AIC:                             1134.\n",
      "Df Residuals:                     171   BIC:                             1141.\n",
      "Df Model:                           1                                         \n",
      "Covariance Type:            nonrobust                                         \n",
      "==============================================================================\n",
      "                 coef    std err          t      P>|t|      [0.025      0.975]\n",
      "------------------------------------------------------------------------------\n",
      "Intercept     26.8122      0.887     30.221      0.000      25.061      28.564\n",
      "shareA         0.4638      0.015     31.901      0.000       0.435       0.493\n",
      "==============================================================================\n",
      "Omnibus:                       20.747   Durbin-Watson:                   1.826\n",
      "Prob(Omnibus):                  0.000   Jarque-Bera (JB):               44.613\n",
      "Skew:                           0.525   Prob(JB):                     2.05e-10\n",
      "Kurtosis:                       5.255   Cond. No.                         112.\n",
      "==============================================================================\n",
      "\n",
      "Notes:\n",
      "[1] Standard Errors assume that the covariance matrix of the errors is correctly specified.\n",
      "\n",
      "table: \n",
      "                 b      se        t  pval\n",
      "Intercept  26.8122  0.8872  30.2207   0.0\n",
      "shareA      0.4638  0.0145  31.9008   0.0\n",
      "\n"
     ]
    }
   ],
   "source": [
    "# Example-2-9\n",
    "import wooldridge as woo\n",
    "import pandas as pd\n",
    "import statsmodels.formula.api as smf\n",
    "\n",
    "vote1 = woo.dataWoo('vote1')\n",
    "\n",
    "# OLS regression:\n",
    "reg = smf.ols(formula='voteA ~ shareA', data=vote1)\n",
    "results = reg.fit()\n",
    "\n",
    "# print results using summary:\n",
    "print(f'results.summary(): \\n{results.summary()}\\n')\n",
    "\n",
    "# print regression table:\n",
    "table = pd.DataFrame({'b': round(results.params, 4),\n",
    "                      'se': round(results.bse, 4),\n",
    "                      't': round(results.tvalues, 4),\n",
    "                      'pval': round(results.pvalues, 4)})\n",
    "print(f'table: \\n{table}\\n')"
   ]
  },
  {
   "cell_type": "markdown",
   "metadata": {},
   "source": [
    "### 2.1.4 度量单位与函数形式"
   ]
  },
  {
   "cell_type": "code",
   "execution_count": 41,
   "metadata": {},
   "outputs": [
    {
     "name": "stdout",
     "output_type": "stream",
     "text": [
      "b: \n",
      "Intercept    0.583773\n",
      "educ         0.082744\n",
      "dtype: float64\n",
      "\n"
     ]
    }
   ],
   "source": [
    "# 对数-常数\n",
    "#Example-2-10\n",
    "import numpy as np\n",
    "import wooldridge as woo\n",
    "import statsmodels.formula.api as smf\n",
    "\n",
    "wage1 = woo.dataWoo('wage1')\n",
    "\n",
    "# estimate log-level model:\n",
    "reg = smf.ols(formula='np.log(wage) ~ educ', data=wage1)\n",
    "results = reg.fit()\n",
    "b = results.params\n",
    "print(f'b: \\n{b}\\n')\n"
   ]
  },
  {
   "cell_type": "code",
   "execution_count": 42,
   "metadata": {},
   "outputs": [
    {
     "name": "stdout",
     "output_type": "stream",
     "text": [
      "b: \n",
      "Intercept        4.821996\n",
      "np.log(sales)    0.256672\n",
      "dtype: float64\n",
      "\n"
     ]
    }
   ],
   "source": [
    "# 对数-对数\n",
    "# Example-2-11\n",
    "import numpy as np\n",
    "import wooldridge as woo\n",
    "import statsmodels.formula.api as smf\n",
    "\n",
    "ceosal1 = woo.dataWoo('ceosal1')\n",
    "\n",
    "# estimate log-log model:\n",
    "reg = smf.ols(formula='np.log(salary) ~ np.log(sales)', data=ceosal1)\n",
    "results = reg.fit()\n",
    "b = results.params\n",
    "print(f'b: \\n{b}\\n')\n"
   ]
  },
  {
   "cell_type": "markdown",
   "metadata": {},
   "source": [
    "### 2.1.5 过原点及对常数回归"
   ]
  },
  {
   "cell_type": "code",
   "execution_count": 43,
   "metadata": {},
   "outputs": [
    {
     "name": "stdout",
     "output_type": "stream",
     "text": [
      "b_1: \n",
      "Intercept    963.191336\n",
      "roe           18.501186\n",
      "dtype: float64\n",
      "\n",
      "b_2: \n",
      "roe    63.537955\n",
      "dtype: float64\n",
      "\n",
      "b_3: \n",
      "Intercept    1281.119617\n",
      "dtype: float64\n",
      "\n",
      "sal_mean: 1281.1196172248804\n",
      "\n"
     ]
    },
    {
     "data": {
      "image/png": "[encoded data removed]",
      "text/plain": [
       "<Figure size 432x288 with 1 Axes>"
      ]
     },
     "metadata": {
      "needs_background": "light"
     },
     "output_type": "display_data"
    }
   ],
   "source": [
    "# SLR-Origin-Const\n",
    "import wooldridge as woo\n",
    "import numpy as np\n",
    "import statsmodels.formula.api as smf\n",
    "import matplotlib.pyplot as plt\n",
    "\n",
    "ceosal1 = woo.dataWoo('ceosal1')\n",
    "\n",
    "# usual OLS regression:\n",
    "reg1 = smf.ols(formula='salary ~ roe', data=ceosal1)\n",
    "results1 = reg1.fit()\n",
    "b_1 = results1.params\n",
    "print(f'b_1: \\n{b_1}\\n')\n",
    "\n",
    "# regression without intercept (through origin):\n",
    "reg2 = smf.ols(formula='salary ~ 0 + roe', data=ceosal1)\n",
    "results2 = reg2.fit()\n",
    "b_2 = results2.params\n",
    "print(f'b_2: \\n{b_2}\\n')\n",
    "\n",
    "# regression without slope (on a constant):\n",
    "reg3 = smf.ols(formula='salary ~ 1', data=ceosal1)\n",
    "results3 = reg3.fit()\n",
    "b_3 = results3.params\n",
    "print(f'b_3: \\n{b_3}\\n')\n",
    "\n",
    "# average y:\n",
    "sal_mean = np.mean(ceosal1['salary'])\n",
    "print(f'sal_mean: {sal_mean}\\n')\n",
    "\n",
    "# scatter plot and fitted values:\n",
    "plt.plot('roe', 'salary', data=ceosal1, color='grey', marker='o',\n",
    "         linestyle='', label='')\n",
    "plt.plot(ceosal1['roe'], results1.fittedvalues, color='black',\n",
    "         linestyle='-', label='full')\n",
    "plt.plot(ceosal1['roe'], results2.fittedvalues, color='black',\n",
    "         linestyle=':', label='through origin')\n",
    "plt.plot(ceosal1['roe'], results3.fittedvalues, color='black',\n",
    "         linestyle='-.', label='const only')\n",
    "plt.ylabel('salary')\n",
    "plt.xlabel('roe')\n",
    "plt.legend()\n",
    "plt.savefig('PyGraphs/SLR-Origin-Const.pdf')\n"
   ]
  },
  {
   "cell_type": "markdown",
   "metadata": {},
   "source": [
    "### 2.1.6 期望值、方差和标准误\n",
    "\n",
    "简单线性回归高斯-马尔科夫假定（SLR.1~SLR.5）：\n",
    "- **SLR.1 线性于参数**：$y = \\beta_0 + \\beta_1 x+ u$ 。\n",
    "- **SLR.2 随机抽样**：$\\{(x_i, y_i): (i=1, 2,\\cdots,n)\\}$，并服从 SLR.1 。\n",
    "- **SLR.3 解释变量的样本有波动**：$\\{x_i: i =1,\\cdots,n\\}$ 不是完全相同的数值。\n",
    "- **SLR.4 零条件均值**：$E(u |x) = 0$。\n",
    "- **SLR.5 同方差性**：$Var(u|x) = \\sigma^2$ 。\n",
    "\n",
    "据此，具有如下定理：\n",
    "- **定理1 OLS 的无偏性**：在 SLR.1\\~SLR.4 假定下，OLS 参数估计是无偏的，即 $E(\\hat \\beta_0 ) = \\beta_0, E(\\hat \\beta_1) = \\beta_1$；\n",
    "\n",
    "- **定理2 OLS 估计量的抽样方差**：在 SLR.1\\~SLR.5 假定下，OLS 估计量具有特定的方差，即$Var(\\hat \\beta_1) = \\frac{\\sigma^2}{\\sum_{i=1}^n (x_i - \\bar x)^2} = \\frac{\\sigma^2}{SST}, Var(\\hat \\beta_0) = \\frac{\\sigma^2 n^{-1} \\sum_{i=1}^n x_i^2}{\\sum_{i=1}^n (x_i - \\bar x)^2}$。\n",
    "\n",
    "\n",
    "1.误差方差：\n",
    "\n",
    "$$\n",
    "\\hat \\sigma^2 \n",
    "= \\frac{1}{n-2}\\cdot\\sum_{i=1}^n \\hat u_i^2 \n",
    "= \\frac{SSR}{(n-2)}\n",
    "= \\frac{n-1}{n-2} \\cdot Var(\\hat u_i) \n",
    "$$\n",
    "\n",
    "其中，$Var(\\hat u_i) = \\frac{1}{n-1}\\cdot\\sum_{i=1}^n \\hat u_i^2$ 为样本方差 ，$(n-2)$ 为 OLS 残差的自由度。\n",
    "\n",
    "2.回归标准误（SER）：\n",
    "\n",
    "$$\n",
    "\\hat \\sigma = \\sqrt{\\hat \\sigma^2}\n",
    "$$\n",
    "\n",
    "3.标准误（SE）:\n",
    "\n",
    "$$\n",
    "se(\\hat \\beta_0) \\ \\sqrt{\\frac{\\hat \\sigma^2 \\bar{x^2}}{\\sum_{i=1}^n (x - \\bar x)^2}} = \\frac{1}{\\sqrt{n-1}} \\cdot \\frac{\\hat \\sigma}{sd(x)} \\cdot \\sqrt{\\bar{x^2}}  \\\\\n",
    "s(\\hat \\beta_1) = \\sqrt{\n",
    "\\frac{\\hat \\sigma^2}{\\sum_{i=1}^n (x - \\bar x)^2}\n",
    "} =\n",
    "\\frac{1}{\\sqrt{n-1}} \\cdot \\frac{\\hat \\sigma}{sd(x)}\n",
    "$$\n",
    "\n",
    "其中，$sd(x)$ 表示样本标准离差 $\\sqrt{\\frac{1}{n-1}\\cdot\\sum_{i=1}^n(x_i - \\bar x)^2}$ 。\n"
   ]
  },
  {
   "cell_type": "code",
   "execution_count": 44,
   "metadata": {},
   "outputs": [
    {
     "name": "stdout",
     "output_type": "stream",
     "text": [
      "SER: 9.565938459482764\n",
      "\n",
      "b1_se: 0.9975823856755016\n",
      "\n",
      "b0_se: 0.034839334258369645\n",
      "\n",
      "results.summary(): \n",
      "                            OLS Regression Results                            \n",
      "==============================================================================\n",
      "Dep. Variable:                 math10   R-squared:                       0.171\n",
      "Model:                            OLS   Adj. R-squared:                  0.169\n",
      "Method:                 Least Squares   F-statistic:                     83.77\n",
      "Date:                Sat, 20 Feb 2021   Prob (F-statistic):           2.75e-18\n",
      "Time:                        13:35:43   Log-Likelihood:                -1499.3\n",
      "No. Observations:                 408   AIC:                             3003.\n",
      "Df Residuals:                     406   BIC:                             3011.\n",
      "Df Model:                           1                                         \n",
      "Covariance Type:            nonrobust                                         \n",
      "==============================================================================\n",
      "                 coef    std err          t      P>|t|      [0.025      0.975]\n",
      "------------------------------------------------------------------------------\n",
      "Intercept     32.1427      0.998     32.221      0.000      30.182      34.104\n",
      "lnchprg       -0.3189      0.035     -9.152      0.000      -0.387      -0.250\n",
      "==============================================================================\n",
      "Omnibus:                       61.162   Durbin-Watson:                   1.908\n",
      "Prob(Omnibus):                  0.000   Jarque-Bera (JB):              105.062\n",
      "Skew:                           0.886   Prob(JB):                     1.53e-23\n",
      "Kurtosis:                       4.743   Cond. No.                         60.4\n",
      "==============================================================================\n",
      "\n",
      "Notes:\n",
      "[1] Standard Errors assume that the covariance matrix of the errors is correctly specified.\n",
      "\n"
     ]
    }
   ],
   "source": [
    "## Example-2-12\n",
    "import numpy as np\n",
    "import wooldridge as woo\n",
    "import statsmodels.formula.api as smf\n",
    "\n",
    "meap93 = woo.dataWoo('meap93')\n",
    "\n",
    "# estimate the model and save the results as \"results\":\n",
    "reg = smf.ols(formula='math10 ~ lnchprg', data=meap93)\n",
    "results = reg.fit()\n",
    "\n",
    "# number of obs.:\n",
    "n = results.nobs\n",
    "\n",
    "# SER:\n",
    "u_hat_var = np.var(results.resid, ddof=1)\n",
    "SER = np.sqrt(u_hat_var) * np.sqrt((n - 1) / (n - 2))\n",
    "print(f'SER: {SER}\\n')\n",
    "\n",
    "# SE of b0 & b1, respectively:\n",
    "lnchprg_sq_mean = np.mean(meap93['lnchprg'] ** 2)\n",
    "lnchprg_var = np.var(meap93['lnchprg'], ddof=1)\n",
    "b1_se = SER / (np.sqrt(lnchprg_var)\n",
    "               * np.sqrt(n - 1)) * np.sqrt(lnchprg_sq_mean)\n",
    "b0_se = SER / (np.sqrt(lnchprg_var) * np.sqrt(n - 1))\n",
    "print(f'b1_se: {b1_se}\\n')\n",
    "print(f'b0_se: {b0_se}\\n')\n",
    "\n",
    "# automatic calculations:\n",
    "print(f'results.summary(): \\n{results.summary()}\\n')"
   ]
  },
  {
   "cell_type": "markdown",
   "metadata": {},
   "source": [
    "### 2.1.7 蒙特卡罗模拟"
   ]
  },
  {
   "cell_type": "markdown",
   "metadata": {},
   "source": [
    "#### 2.1.7.1 单样本"
   ]
  },
  {
   "cell_type": "code",
   "execution_count": 45,
   "metadata": {},
   "outputs": [
    {
     "name": "stdout",
     "output_type": "stream",
     "text": [
      "b: \n",
      "Intercept    1.190238\n",
      "x            0.444255\n",
      "dtype: float64\n",
      "\n",
      "x_sq_mean: 17.27675304867723\n",
      "\n",
      "x_var: 953.7353266586754\n",
      "\n"
     ]
    },
    {
     "data": {
      "image/png": "[encoded data removed]",
      "text/plain": [
       "<Figure size 432x288 with 1 Axes>"
      ]
     },
     "metadata": {
      "needs_background": "light"
     },
     "output_type": "display_data"
    }
   ],
   "source": [
    "# SLR-Sim-Sample\n",
    "import numpy as np\n",
    "import pandas as pd\n",
    "import statsmodels.formula.api as smf\n",
    "import scipy.stats as stats\n",
    "import matplotlib.pyplot as plt\n",
    "\n",
    "# set the random seed:\n",
    "np.random.seed(1234567)\n",
    "\n",
    "# set sample size:\n",
    "n = 1000\n",
    "\n",
    "# set true parameters (betas and sd of u):\n",
    "beta0 = 1\n",
    "beta1 = 0.5\n",
    "su = 2\n",
    "\n",
    "# draw a sample of size n:\n",
    "x = stats.norm.rvs(4, 1, size=n)\n",
    "u = stats.norm.rvs(0, su, size=n)\n",
    "y = beta0 + beta1 * x + u\n",
    "df = pd.DataFrame({'y': y, 'x': x})\n",
    "\n",
    "# estimate parameters by OLS:\n",
    "reg = smf.ols(formula='y ~ x', data=df)\n",
    "results = reg.fit()\n",
    "b = results.params\n",
    "print(f'b: \\n{b}\\n')\n",
    "\n",
    "# features of the sample for the variance formula:\n",
    "x_sq_mean = np.mean(x ** 2)\n",
    "print(f'x_sq_mean: {x_sq_mean}\\n')\n",
    "x_var = np.sum((x - np.mean(x)) ** 2)\n",
    "print(f'x_var: {x_var}\\n')\n",
    "\n",
    "# graph:\n",
    "x_range = np.linspace(0, 8, num=100)\n",
    "plt.ylim([-2, 10])\n",
    "plt.plot(x, y, color='lightgrey', marker='o', linestyle='')\n",
    "plt.plot(x_range, beta0 + beta1 * x_range, color='black',\n",
    "         linestyle='-', linewidth=2, label='pop. regr. fct.')\n",
    "plt.plot(x_range, b[0] + b[1] * x_range, color='grey',\n",
    "         linestyle='-', linewidth=2, label='OLS regr. fct.')\n",
    "plt.ylabel('y')\n",
    "plt.xlabel('x')\n",
    "plt.legend()\n",
    "plt.savefig('PyGraphs/SLR-Sim-Sample.pdf')\n"
   ]
  },
  {
   "cell_type": "markdown",
   "metadata": {},
   "source": [
    "#### 2.1.7.2 多样本"
   ]
  },
  {
   "cell_type": "code",
   "execution_count": 46,
   "metadata": {},
   "outputs": [
    {
     "name": "stdout",
     "output_type": "stream",
     "text": [
      "b0_mean: 1.0032946031924095\n",
      "\n",
      "b1_mean: 0.49936958775965995\n",
      "\n",
      "b0_var: 0.07158103946245628\n",
      "\n",
      "b1_var: 0.004157652196227234\n",
      "\n"
     ]
    },
    {
     "data": {
      "image/png": "[encoded data removed]",
      "text/plain": [
       "<Figure size 432x288 with 1 Axes>"
      ]
     },
     "metadata": {
      "needs_background": "light"
     },
     "output_type": "display_data"
    }
   ],
   "source": [
    "# SLR-Sim-Model-Condx\n",
    "import numpy as np\n",
    "import pandas as pd\n",
    "import statsmodels.formula.api as smf\n",
    "import scipy.stats as stats\n",
    "import matplotlib.pyplot as plt\n",
    "\n",
    "# set the random seed:\n",
    "np.random.seed(1234567)\n",
    "\n",
    "# set sample size and number of simulations:\n",
    "n = 1000\n",
    "r = 10000\n",
    "\n",
    "# set true parameters (betas and sd of u):\n",
    "beta0 = 1\n",
    "beta1 = 0.5\n",
    "su = 2\n",
    "\n",
    "# initialize b0 and b1 to store results later:\n",
    "b0 = np.empty(r)\n",
    "b1 = np.empty(r)\n",
    "\n",
    "# draw a sample of x, fixed over replications:\n",
    "x = stats.norm.rvs(4, 1, size=n)\n",
    "\n",
    "# repeat r times:\n",
    "for i in range(r):\n",
    "    # draw a sample of y:\n",
    "    u = stats.norm.rvs(0, su, size=n)\n",
    "    y = beta0 + beta1 * x + u\n",
    "    df = pd.DataFrame({'y': y, 'x': x})\n",
    "\n",
    "    # estimate and store parameters by OLS:\n",
    "    reg = smf.ols(formula='y ~ x', data=df)\n",
    "    results = reg.fit()\n",
    "    b0[i] = results.params['Intercept']\n",
    "    b1[i] = results.params['x']\n",
    "\n",
    "# MC estimate of the expected values:\n",
    "b0_mean = np.mean(b0)\n",
    "b1_mean = np.mean(b1)\n",
    "\n",
    "print(f'b0_mean: {b0_mean}\\n')\n",
    "print(f'b1_mean: {b1_mean}\\n')\n",
    "\n",
    "# MC estimate of the variances:\n",
    "b0_var = np.var(b0, ddof=1)\n",
    "b1_var = np.var(b1, ddof=1)\n",
    "\n",
    "print(f'b0_var: {b0_var}\\n')\n",
    "print(f'b1_var: {b1_var}\\n')\n",
    "\n",
    "# graph:\n",
    "x_range = np.linspace(0, 8, num=100)\n",
    "plt.ylim([0, 6])\n",
    "\n",
    "# add population regression line:\n",
    "plt.plot(x_range, beta0 + beta1 * x_range, color='black',\n",
    "         linestyle='-', linewidth=2, label='Population')\n",
    "\n",
    "# add first OLS regression line (to attach a label):\n",
    "plt.plot(x_range, b0[0] + b1[0] * x_range, color='grey',\n",
    "         linestyle='-', linewidth=0.5, label='OLS regressions')\n",
    "\n",
    "# add OLS regression lines no. 2 to 10:\n",
    "for i in range(1, 10):\n",
    "    plt.plot(x_range, b0[i] + b1[i] * x_range, color='grey',\n",
    "             linestyle='-', linewidth=0.5)\n",
    "plt.ylabel('y')\n",
    "plt.xlabel('x')\n",
    "plt.legend()\n",
    "plt.savefig('PyGraphs/SLR-Sim-Model-Condx.pdf')\n"
   ]
  },
  {
   "cell_type": "code",
   "execution_count": null,
   "metadata": {},
   "outputs": [],
   "source": []
  },
  {
   "cell_type": "code",
   "execution_count": null,
   "metadata": {},
   "outputs": [],
   "source": []
  },
  {
   "cell_type": "code",
   "execution_count": null,
   "metadata": {},
   "outputs": [],
   "source": []
  },
  {
   "cell_type": "code",
   "execution_count": null,
   "metadata": {},
   "outputs": [],
   "source": []
  }
 ],
 "metadata": {
  "kernelspec": {
   "display_name": "Python 3",
   "language": "python",
   "name": "python3"
  },
  "language_info": {
   "codemirror_mode": {
    "name": "ipython",
    "version": 3
   },
   "file_extension": ".py",
   "mimetype": "text/x-python",
   "name": "python",
   "nbconvert_exporter": "python",
   "pygments_lexer": "ipython3",
   "version": "3.8.5"
  }
 },
 "nbformat": 4,
 "nbformat_minor": 4
}
