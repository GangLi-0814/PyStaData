{
 "cells": [
  {
   "cell_type": "code",
   "execution_count": 32,
   "metadata": {},
   "outputs": [],
   "source": [
    "import pandas as pd \n",
    "import matplotlib.pyplot as plt"
   ]
  },
  {
   "cell_type": "markdown",
   "metadata": {},
   "source": [
    " 例1：已知消费函数C = 1000 + 0.8Y，投资I = 600 亿元，求总产出水平 Y 。"
   ]
  },
  {
   "cell_type": "markdown",
   "metadata": {},
   "source": [
    "由总产出和消费函数：\n",
    "$$\n",
    "Y = C + I \\\\\n",
    "C = a + b*Y\n",
    "$$\n",
    "可得：\n",
    "$$\n",
    "Y = \\frac{(a + I)}{(1-b)}\n",
    "$$"
   ]
  },
  {
   "cell_type": "code",
   "execution_count": 22,
   "metadata": {},
   "outputs": [],
   "source": [
    "# 总产出函数\n",
    "def Output(a, I, b=0.8):\n",
    "    Y = (a + I)/(1 - b)\n",
    "    return Y"
   ]
  },
  {
   "cell_type": "code",
   "execution_count": 25,
   "metadata": {},
   "outputs": [
    {
     "name": "stdout",
     "output_type": "stream",
     "text": [
      "总产出为:8000.000000000002\n"
     ]
    }
   ],
   "source": [
    "a1 = 1000 #自发消费\n",
    "I1 = 600 # 投资\n",
    "Y = Output(a1,I, )\n",
    "print(\"总产出为:{}\".format(Y))"
   ]
  },
  {
   "cell_type": "markdown",
   "metadata": {},
   "source": [
    "例2：假设上述消费函数中自发性消费a由1000亿元减少至900亿元，投资I仍为600亿元，求总产出水平Y。"
   ]
  },
  {
   "cell_type": "code",
   "execution_count": 26,
   "metadata": {},
   "outputs": [
    {
     "name": "stdout",
     "output_type": "stream",
     "text": [
      "总产出为:7500.000000000002\n"
     ]
    }
   ],
   "source": [
    "a2 = 900\n",
    "Y = Output(a2,I,)\n",
    "print(\"总产出为:{}\".format(Y,C))"
   ]
  },
  {
   "cell_type": "markdown",
   "metadata": {},
   "source": [
    "例3：假设消费函数仍为C = 1000 + 0.8Y，投资规模I由600亿元扩大至650亿元，求总产出水平Y。"
   ]
  },
  {
   "cell_type": "code",
   "execution_count": 27,
   "metadata": {},
   "outputs": [
    {
     "name": "stdout",
     "output_type": "stream",
     "text": [
      "总产出为:8250.000000000002\n"
     ]
    }
   ],
   "source": [
    "I2 = 650\n",
    "Y = Output(a1,I2,)\n",
    "print(\"总产出为:{}\".format(Y,C))"
   ]
  },
  {
   "cell_type": "markdown",
   "metadata": {},
   "source": [
    "对比例 2 和例 3 的结果，发现消费减少 100 亿会使得产出水平减少 500 亿，投资扩大 50 亿会使总产出扩大 250 亿。"
   ]
  },
  {
   "cell_type": "code",
   "execution_count": 31,
   "metadata": {},
   "outputs": [
    {
     "name": "stdout",
     "output_type": "stream",
     "text": [
      "消费乘数为:-500.0000000000001\n",
      "投资乘数为:250.00000000000006\n"
     ]
    }
   ],
   "source": [
    "b = 0.8\n",
    "delta_a = a2 - a1\n",
    "delta_I = I2 - I1\n",
    "\n",
    "consume_plus = delta_a * (1/(1-b))\n",
    "invest_plus = delta_I * (1/(1-b))\n",
    "\n",
    "print(\"消费乘数为:{}\\n投资乘数为:{}\".format(consume_plus, invest_plus))"
   ]
  },
  {
   "cell_type": "markdown",
   "metadata": {},
   "source": [
    "## IS 曲线\n",
    "\n",
    "IS 曲线是一条描述商品市场达到宏观均衡即 $I = S$ 时，总产出与利率之间关系的曲线。\n",
    "\n",
    "IS 曲线的推导：\n",
    "根据：\n",
    "$$\n",
    "I = S \\\\\n",
    "I = \\alpha - \\beta r \\\\\n",
    "S = Y - C  = -a + (1-b)Y \\\\\n",
    "$$\n",
    "\n",
    "可得：\n",
    "$$\n",
    "r = \\frac{a+\\alpha}{\\beta} - \\frac{1-b}{\\beta} Y\n",
    "$$\n",
    "\n",
    "令 $A = \\frac{a+\\alpha}{\\beta}, B = \\frac{1-b}{\\beta}$，则有：\n",
    "$$\n",
    "r = A - B*Y\n",
    "$$"
   ]
  },
  {
   "cell_type": "markdown",
   "metadata": {},
   "source": [
    "例题1：已知消费函数 $C = 200+0.8Y$，投资函数$I = 300-5r$；求 IS 曲线的方程。\n",
    "\n",
    "解:\n",
    "$A = (a+\\alpha)/\\beta=(200 + 300)/ 5 = 100$\n",
    "\n",
    "$B = (1-b)/\\beta=(1 - 0.8)/ 5 = 0.04$ \n",
    "\n",
    "IS 曲线的方程为：$r = 100 - 0.04Y$ 。"
   ]
  },
  {
   "cell_type": "markdown",
   "metadata": {},
   "source": [
    "## LM 曲线\n",
    "\n",
    "\n",
    "$$\n",
    "L = M \\\\\n",
    "L = kY - hr\n",
    "$$\n",
    "\n",
    "实际货币供应量 $m$ 与名义货币供应量 $M$ 的关系为：$m = \\frac{M}{P}$ 。\n",
    "假设物价水平 $P = 1$，则有：$M = m$ 。"
   ]
  }
 ],
 "metadata": {
  "kernelspec": {
   "display_name": "Python 3",
   "language": "python",
   "name": "python3"
  },
  "language_info": {
   "codemirror_mode": {
    "name": "ipython",
    "version": 3
   },
   "file_extension": ".py",
   "mimetype": "text/x-python",
   "name": "python",
   "nbconvert_exporter": "python",
   "pygments_lexer": "ipython3",
   "version": "3.8.5"
  }
 },
 "nbformat": 4,
 "nbformat_minor": 4
}
